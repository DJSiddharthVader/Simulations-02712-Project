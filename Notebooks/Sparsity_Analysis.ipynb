{
 "cells": [
  {
   "cell_type": "code",
   "execution_count": 1,
   "id": "02cc5ba6-196a-4a82-87e0-38ddd3191b12",
   "metadata": {},
   "outputs": [],
   "source": [
    "from importlib import reload  # reload script imports\n",
    "import matplotlib.pyplot as plt\n",
    "import pandas as pd\n",
    "# Our scripts\n",
    "import sys  \n",
    "sys.path.insert(0, '../src')\n",
    "import matrix as matrix\n",
    "import sparsity_analysis as spa\n",
    "import plot as plot"
   ]
  },
  {
   "cell_type": "markdown",
   "id": "60e6033c-d9d8-4a54-be73-7dfffe5a3b00",
   "metadata": {},
   "source": [
    "## How K_ac sparsity affects population structure"
   ]
  },
  {
   "cell_type": "markdown",
   "id": "599c49a5-9353-4e55-a60c-afa8db820a42",
   "metadata": {},
   "source": [
    "### Produce dataframe of model dynamics with different sparse matrices"
   ]
  },
  {
   "cell_type": "code",
   "execution_count": 29,
   "id": "e21761d1-326f-4a1d-9a40-384dce52af88",
   "metadata": {},
   "outputs": [
    {
     "data": {
      "text/html": [
       "<div>\n",
       "<style scoped>\n",
       "    .dataframe tbody tr th:only-of-type {\n",
       "        vertical-align: middle;\n",
       "    }\n",
       "\n",
       "    .dataframe tbody tr th {\n",
       "        vertical-align: top;\n",
       "    }\n",
       "\n",
       "    .dataframe thead th {\n",
       "        text-align: right;\n",
       "    }\n",
       "</style>\n",
       "<table border=\"1\" class=\"dataframe\">\n",
       "  <thead>\n",
       "    <tr style=\"text-align: right;\">\n",
       "      <th></th>\n",
       "      <th>sparsity</th>\n",
       "      <th>growth_rate</th>\n",
       "    </tr>\n",
       "  </thead>\n",
       "  <tbody>\n",
       "    <tr>\n",
       "      <th>0</th>\n",
       "      <td>0.0625</td>\n",
       "      <td>0.179440</td>\n",
       "    </tr>\n",
       "    <tr>\n",
       "      <th>1</th>\n",
       "      <td>0.1250</td>\n",
       "      <td>0.231046</td>\n",
       "    </tr>\n",
       "    <tr>\n",
       "      <th>2</th>\n",
       "      <td>0.1875</td>\n",
       "      <td>0.288453</td>\n",
       "    </tr>\n",
       "    <tr>\n",
       "      <th>3</th>\n",
       "      <td>0.2500</td>\n",
       "      <td>0.298954</td>\n",
       "    </tr>\n",
       "  </tbody>\n",
       "</table>\n",
       "</div>"
      ],
      "text/plain": [
       "   sparsity  growth_rate\n",
       "0    0.0625     0.179440\n",
       "1    0.1250     0.231046\n",
       "2    0.1875     0.288453\n",
       "3    0.2500     0.298954"
      ]
     },
     "execution_count": 29,
     "metadata": {},
     "output_type": "execute_result"
    }
   ],
   "source": [
    "reload(matrix)\n",
    "reload(spa)\n",
    "\n",
    "#initial_N = (0.0005, 0.001, 0.0015, 0.002, 0.0025, 0.003)\n",
    "initial_N = (0.001, 0.0015, 0.002, 0.0025)\n",
    "sparsity, end_time = 1/len(initial_N), 50\n",
    "results = spa.analyze_run(initial_N, \n",
    "                          sparsity,\n",
    "                          end_time)\n",
    "results.head()"
   ]
  },
  {
   "cell_type": "code",
   "execution_count": 28,
   "id": "8ff58e3b-61c9-4f1c-86c8-8d61df7e8e25",
   "metadata": {},
   "outputs": [
    {
     "name": "stdout",
     "output_type": "stream",
     "text": [
      "(112, 4)\n"
     ]
    },
    {
     "data": {
      "text/html": [
       "<div>\n",
       "<style scoped>\n",
       "    .dataframe tbody tr th:only-of-type {\n",
       "        vertical-align: middle;\n",
       "    }\n",
       "\n",
       "    .dataframe tbody tr th {\n",
       "        vertical-align: top;\n",
       "    }\n",
       "\n",
       "    .dataframe thead th {\n",
       "        text-align: right;\n",
       "    }\n",
       "</style>\n",
       "<table border=\"1\" class=\"dataframe\">\n",
       "  <thead>\n",
       "    <tr style=\"text-align: right;\">\n",
       "      <th></th>\n",
       "      <th>sparsity</th>\n",
       "      <th>growth_rate</th>\n",
       "      <th>Init</th>\n",
       "      <th>Size</th>\n",
       "    </tr>\n",
       "  </thead>\n",
       "  <tbody>\n",
       "    <tr>\n",
       "      <th>0</th>\n",
       "      <td>0.25</td>\n",
       "      <td>0.503406</td>\n",
       "      <td>0</td>\n",
       "      <td>2</td>\n",
       "    </tr>\n",
       "    <tr>\n",
       "      <th>1</th>\n",
       "      <td>0.25</td>\n",
       "      <td>0.220326</td>\n",
       "      <td>0</td>\n",
       "      <td>2</td>\n",
       "    </tr>\n",
       "    <tr>\n",
       "      <th>2</th>\n",
       "      <td>0.25</td>\n",
       "      <td>0.505073</td>\n",
       "      <td>0</td>\n",
       "      <td>2</td>\n",
       "    </tr>\n",
       "    <tr>\n",
       "      <th>3</th>\n",
       "      <td>0.25</td>\n",
       "      <td>0.270261</td>\n",
       "      <td>0</td>\n",
       "      <td>2</td>\n",
       "    </tr>\n",
       "    <tr>\n",
       "      <th>4</th>\n",
       "      <td>0.25</td>\n",
       "      <td>0.243206</td>\n",
       "      <td>1</td>\n",
       "      <td>2</td>\n",
       "    </tr>\n",
       "  </tbody>\n",
       "</table>\n",
       "</div>"
      ],
      "text/plain": [
       "   sparsity  growth_rate  Init  Size\n",
       "0      0.25     0.503406     0     2\n",
       "1      0.25     0.220326     0     2\n",
       "2      0.25     0.505073     0     2\n",
       "3      0.25     0.270261     0     2\n",
       "4      0.25     0.243206     1     2"
      ]
     },
     "execution_count": 28,
     "metadata": {},
     "output_type": "execute_result"
    }
   ],
   "source": [
    "reload(spa)\n",
    "size, num = 4, 4\n",
    "lower, upper = 0.001, 0.004\n",
    "sparsity = 0.25\n",
    "end_time = 50\n",
    "results = spa.analyze(size,\n",
    "                      num,\n",
    "                      lower,\n",
    "                      upper,\n",
    "                      sparsity,\n",
    "                      end_time)\n",
    "print(results.shape)\n",
    "results.head()"
   ]
  },
  {
   "cell_type": "code",
   "execution_count": 25,
   "id": "92267b76-5b72-4be4-ae48-87ba01ed588a",
   "metadata": {},
   "outputs": [
    {
     "data": {
      "text/plain": [
       "(224, 4)"
      ]
     },
     "execution_count": 25,
     "metadata": {},
     "output_type": "execute_result"
    }
   ],
   "source": [
    "results.shape"
   ]
  },
  {
   "cell_type": "code",
   "execution_count": null,
   "id": "7f38759c-f570-4935-b330-77c46dbfa1b7",
   "metadata": {},
   "outputs": [],
   "source": [
    "reload(plot)"
   ]
  }
 ],
 "metadata": {
  "kernelspec": {
   "display_name": "Python 3 (ipykernel)",
   "language": "python",
   "name": "python3"
  },
  "language_info": {
   "codemirror_mode": {
    "name": "ipython",
    "version": 3
   },
   "file_extension": ".py",
   "mimetype": "text/x-python",
   "name": "python",
   "nbconvert_exporter": "python",
   "pygments_lexer": "ipython3",
   "version": "3.9.7"
  }
 },
 "nbformat": 4,
 "nbformat_minor": 5
}
