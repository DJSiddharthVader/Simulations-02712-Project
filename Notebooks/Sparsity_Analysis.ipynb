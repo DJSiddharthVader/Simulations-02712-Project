{
 "cells": [
  {
   "cell_type": "code",
   "execution_count": 3,
   "id": "02cc5ba6-196a-4a82-87e0-38ddd3191b12",
   "metadata": {},
   "outputs": [],
   "source": [
    "from importlib import reload  # reload script imports\n",
    "import matplotlib.pyplot as plt\n",
    "import pandas as pd\n",
    "# Our scripts\n",
    "import sys  \n",
    "sys.path.insert(0, '../src')\n",
    "import matrix as matrix\n",
    "import sparsity_analysis as spa\n",
    "import plot as plot"
   ]
  },
  {
   "cell_type": "markdown",
   "id": "60e6033c-d9d8-4a54-be73-7dfffe5a3b00",
   "metadata": {},
   "source": [
    "## How K_ac sparsity affects population structure"
   ]
  },
  {
   "cell_type": "markdown",
   "id": "599c49a5-9353-4e55-a60c-afa8db820a42",
   "metadata": {},
   "source": [
    "### Produce dataframe of model dynamics with different sparse matrices"
   ]
  },
  {
   "cell_type": "code",
   "execution_count": 5,
   "id": "e21761d1-326f-4a1d-9a40-384dce52af88",
   "metadata": {},
   "outputs": [
    {
     "data": {
      "text/html": [
       "<div>\n",
       "<style scoped>\n",
       "    .dataframe tbody tr th:only-of-type {\n",
       "        vertical-align: middle;\n",
       "    }\n",
       "\n",
       "    .dataframe tbody tr th {\n",
       "        vertical-align: top;\n",
       "    }\n",
       "\n",
       "    .dataframe thead th {\n",
       "        text-align: right;\n",
       "    }\n",
       "</style>\n",
       "<table border=\"1\" class=\"dataframe\">\n",
       "  <thead>\n",
       "    <tr style=\"text-align: right;\">\n",
       "      <th></th>\n",
       "      <th>sparsity</th>\n",
       "      <th>growth_rate</th>\n",
       "    </tr>\n",
       "  </thead>\n",
       "  <tbody>\n",
       "    <tr>\n",
       "      <th>0</th>\n",
       "      <td>0.0625</td>\n",
       "      <td>0.128297</td>\n",
       "    </tr>\n",
       "    <tr>\n",
       "      <th>1</th>\n",
       "      <td>0.1250</td>\n",
       "      <td>0.157264</td>\n",
       "    </tr>\n",
       "  </tbody>\n",
       "</table>\n",
       "</div>"
      ],
      "text/plain": [
       "   sparsity  growth_rate\n",
       "0    0.0625     0.128297\n",
       "1    0.1250     0.157264"
      ]
     },
     "execution_count": 5,
     "metadata": {},
     "output_type": "execute_result"
    }
   ],
   "source": [
    "reload(matrix)\n",
    "reload(spa)\n",
    "\n",
    "#initial_N = (0.0005, 0.001, 0.0015, 0.002, 0.0025, 0.003)\n",
    "initial_N = (0.001, 0.0015, 0.002, 0.0025)\n",
    "sparsity, end_time = 6/36, 50\n",
    "results = spa.analysis(initial_N, \n",
    "                       sparsity,\n",
    "                       end_time)\n",
    "results.head()"
   ]
  },
  {
   "cell_type": "code",
   "execution_count": null,
   "id": "7f38759c-f570-4935-b330-77c46dbfa1b7",
   "metadata": {},
   "outputs": [],
   "source": [
    "reload(plot)"
   ]
  }
 ],
 "metadata": {
  "kernelspec": {
   "display_name": "Python 3 (ipykernel)",
   "language": "python",
   "name": "python3"
  },
  "language_info": {
   "codemirror_mode": {
    "name": "ipython",
    "version": 3
   },
   "file_extension": ".py",
   "mimetype": "text/x-python",
   "name": "python",
   "nbconvert_exporter": "python",
   "pygments_lexer": "ipython3",
   "version": "3.9.7"
  }
 },
 "nbformat": 4,
 "nbformat_minor": 5
}
