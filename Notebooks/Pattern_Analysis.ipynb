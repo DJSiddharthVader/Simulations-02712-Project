{
 "cells": [
  {
   "cell_type": "code",
   "execution_count": 1,
   "id": "02831266-3588-4ded-9ad2-dcd43a9907c5",
   "metadata": {},
   "outputs": [],
   "source": [
    "import pandas as pd\n",
    "# Our scripts\n",
    "import sys  \n",
    "sys.path.insert(0, '../src')\n",
    "import patterns_analysis as pa\n",
    "%load_ext autoreload\n",
    "%autoreload 2"
   ]
  },
  {
   "cell_type": "markdown",
   "id": "3df1b4d8-d245-47aa-83e1-6851ae17280e",
   "metadata": {},
   "source": [
    "## How K_ac patterns affects population structure"
   ]
  },
  {
   "cell_type": "markdown",
   "id": "f075b1d8-1ce2-4e40-b604-c9601731297e",
   "metadata": {},
   "source": [
    "### Produce dataframe of model dynamics with different patterned matrices"
   ]
  },
  {
   "cell_type": "code",
   "execution_count": 2,
   "id": "b98fc938-a94f-4c42-afb3-fe5f1b9eaa65",
   "metadata": {},
   "outputs": [
    {
     "data": {
      "application/vnd.jupyter.widget-view+json": {
       "model_id": "",
       "version_major": 2,
       "version_minor": 0
      },
      "text/plain": [
       "pattern:   0%|          | 0/8 [00:00<?, ?it/s]"
      ]
     },
     "metadata": {},
     "output_type": "display_data"
    },
    {
     "data": {
      "application/vnd.jupyter.widget-view+json": {
       "model_id": "",
       "version_major": 2,
       "version_minor": 0
      },
      "text/plain": [
       "init:   0%|          | 0/500 [00:00<?, ?it/s]"
      ]
     },
     "metadata": {},
     "output_type": "display_data"
    },
    {
     "data": {
      "application/vnd.jupyter.widget-view+json": {
       "model_id": "",
       "version_major": 2,
       "version_minor": 0
      },
      "text/plain": [
       "init:   0%|          | 0/500 [00:00<?, ?it/s]"
      ]
     },
     "metadata": {},
     "output_type": "display_data"
    },
    {
     "data": {
      "application/vnd.jupyter.widget-view+json": {
       "model_id": "",
       "version_major": 2,
       "version_minor": 0
      },
      "text/plain": [
       "init:   0%|          | 0/500 [00:00<?, ?it/s]"
      ]
     },
     "metadata": {},
     "output_type": "display_data"
    },
    {
     "data": {
      "application/vnd.jupyter.widget-view+json": {
       "model_id": "",
       "version_major": 2,
       "version_minor": 0
      },
      "text/plain": [
       "init:   0%|          | 0/500 [00:00<?, ?it/s]"
      ]
     },
     "metadata": {},
     "output_type": "display_data"
    },
    {
     "data": {
      "application/vnd.jupyter.widget-view+json": {
       "model_id": "",
       "version_major": 2,
       "version_minor": 0
      },
      "text/plain": [
       "init:   0%|          | 0/500 [00:00<?, ?it/s]"
      ]
     },
     "metadata": {},
     "output_type": "display_data"
    },
    {
     "data": {
      "application/vnd.jupyter.widget-view+json": {
       "model_id": "",
       "version_major": 2,
       "version_minor": 0
      },
      "text/plain": [
       "init:   0%|          | 0/500 [00:00<?, ?it/s]"
      ]
     },
     "metadata": {},
     "output_type": "display_data"
    },
    {
     "data": {
      "application/vnd.jupyter.widget-view+json": {
       "model_id": "",
       "version_major": 2,
       "version_minor": 0
      },
      "text/plain": [
       "init:   0%|          | 0/500 [00:00<?, ?it/s]"
      ]
     },
     "metadata": {},
     "output_type": "display_data"
    },
    {
     "data": {
      "application/vnd.jupyter.widget-view+json": {
       "model_id": "",
       "version_major": 2,
       "version_minor": 0
      },
      "text/plain": [
       "init:   0%|          | 0/500 [00:00<?, ?it/s]"
      ]
     },
     "metadata": {},
     "output_type": "display_data"
    },
    {
     "name": "stdout",
     "output_type": "stream",
     "text": [
      "(4000, 8)\n"
     ]
    },
    {
     "data": {
      "text/html": [
       "<div>\n",
       "<style scoped>\n",
       "    .dataframe tbody tr th:only-of-type {\n",
       "        vertical-align: middle;\n",
       "    }\n",
       "\n",
       "    .dataframe tbody tr th {\n",
       "        vertical-align: top;\n",
       "    }\n",
       "\n",
       "    .dataframe thead th {\n",
       "        text-align: right;\n",
       "    }\n",
       "</style>\n",
       "<table border=\"1\" class=\"dataframe\">\n",
       "  <thead>\n",
       "    <tr style=\"text-align: right;\">\n",
       "      <th></th>\n",
       "      <th>growth_rate</th>\n",
       "      <th>has_grown</th>\n",
       "      <th>skew</th>\n",
       "      <th>euclidian</th>\n",
       "      <th>shannon_index</th>\n",
       "      <th>bray_curtis</th>\n",
       "      <th>init</th>\n",
       "      <th>pattern</th>\n",
       "    </tr>\n",
       "  </thead>\n",
       "  <tbody>\n",
       "    <tr>\n",
       "      <th>0</th>\n",
       "      <td>0.014818</td>\n",
       "      <td>1.0</td>\n",
       "      <td>-7.771561e-16</td>\n",
       "      <td>0.016196</td>\n",
       "      <td>0.000000e+00</td>\n",
       "      <td>1.110223e-16</td>\n",
       "      <td>0</td>\n",
       "      <td>null</td>\n",
       "    </tr>\n",
       "    <tr>\n",
       "      <th>1</th>\n",
       "      <td>0.017428</td>\n",
       "      <td>1.0</td>\n",
       "      <td>4.690692e-15</td>\n",
       "      <td>0.016846</td>\n",
       "      <td>0.000000e+00</td>\n",
       "      <td>3.330669e-16</td>\n",
       "      <td>1</td>\n",
       "      <td>null</td>\n",
       "    </tr>\n",
       "    <tr>\n",
       "      <th>2</th>\n",
       "      <td>0.012934</td>\n",
       "      <td>1.0</td>\n",
       "      <td>2.331468e-15</td>\n",
       "      <td>0.015451</td>\n",
       "      <td>0.000000e+00</td>\n",
       "      <td>1.110223e-16</td>\n",
       "      <td>2</td>\n",
       "      <td>null</td>\n",
       "    </tr>\n",
       "    <tr>\n",
       "      <th>3</th>\n",
       "      <td>0.014695</td>\n",
       "      <td>1.0</td>\n",
       "      <td>2.886580e-15</td>\n",
       "      <td>0.016158</td>\n",
       "      <td>0.000000e+00</td>\n",
       "      <td>2.220446e-16</td>\n",
       "      <td>3</td>\n",
       "      <td>null</td>\n",
       "    </tr>\n",
       "    <tr>\n",
       "      <th>4</th>\n",
       "      <td>0.010663</td>\n",
       "      <td>1.0</td>\n",
       "      <td>-6.189493e-15</td>\n",
       "      <td>0.013902</td>\n",
       "      <td>2.220446e-16</td>\n",
       "      <td>2.220446e-16</td>\n",
       "      <td>4</td>\n",
       "      <td>null</td>\n",
       "    </tr>\n",
       "  </tbody>\n",
       "</table>\n",
       "</div>"
      ],
      "text/plain": [
       "   growth_rate  has_grown          skew  euclidian  shannon_index  \\\n",
       "0     0.014818        1.0 -7.771561e-16   0.016196   0.000000e+00   \n",
       "1     0.017428        1.0  4.690692e-15   0.016846   0.000000e+00   \n",
       "2     0.012934        1.0  2.331468e-15   0.015451   0.000000e+00   \n",
       "3     0.014695        1.0  2.886580e-15   0.016158   0.000000e+00   \n",
       "4     0.010663        1.0 -6.189493e-15   0.013902   2.220446e-16   \n",
       "\n",
       "    bray_curtis  init pattern  \n",
       "0  1.110223e-16     0    null  \n",
       "1  3.330669e-16     1    null  \n",
       "2  1.110223e-16     2    null  \n",
       "3  2.220446e-16     3    null  \n",
       "4  2.220446e-16     4    null  "
      ]
     },
     "execution_count": 2,
     "metadata": {},
     "output_type": "execute_result"
    }
   ],
   "source": [
    "sizes = 4\n",
    "num = 500\n",
    "lower, upper = 0.001, 0.004\n",
    "patterns = ['null', 'ident', 'naive', 'immune', \n",
    "            'barbell', 'cycle', 'complete', 'star']\n",
    "end_time = 200\n",
    "\n",
    "results = pa.analyze(sizes,\n",
    "                     num,\n",
    "                     lower,\n",
    "                     upper,\n",
    "                     patterns,\n",
    "                     end_time)\n",
    "print(results.shape)\n",
    "results.to_csv('../Data/pattern_analysis.tsv', sep='\\t', index=False)\n",
    "results.head()"
   ]
  },
  {
   "cell_type": "code",
   "execution_count": 31,
   "id": "00bef3b4-e514-4663-9e61-36161149ee10",
   "metadata": {},
   "outputs": [
    {
     "data": {
      "text/html": [
       "<div>\n",
       "<style scoped>\n",
       "    .dataframe tbody tr th:only-of-type {\n",
       "        vertical-align: middle;\n",
       "    }\n",
       "\n",
       "    .dataframe tbody tr th {\n",
       "        vertical-align: top;\n",
       "    }\n",
       "\n",
       "    .dataframe thead th {\n",
       "        text-align: right;\n",
       "    }\n",
       "</style>\n",
       "<table border=\"1\" class=\"dataframe\">\n",
       "  <thead>\n",
       "    <tr style=\"text-align: right;\">\n",
       "      <th></th>\n",
       "      <th>init</th>\n",
       "      <th>pattern</th>\n",
       "      <th>statistic</th>\n",
       "      <th>value</th>\n",
       "    </tr>\n",
       "  </thead>\n",
       "  <tbody>\n",
       "    <tr>\n",
       "      <th>0</th>\n",
       "      <td>0</td>\n",
       "      <td>null</td>\n",
       "      <td>growth_rate</td>\n",
       "      <td>0.014818</td>\n",
       "    </tr>\n",
       "    <tr>\n",
       "      <th>1</th>\n",
       "      <td>1</td>\n",
       "      <td>null</td>\n",
       "      <td>growth_rate</td>\n",
       "      <td>0.017428</td>\n",
       "    </tr>\n",
       "    <tr>\n",
       "      <th>2</th>\n",
       "      <td>2</td>\n",
       "      <td>null</td>\n",
       "      <td>growth_rate</td>\n",
       "      <td>0.012934</td>\n",
       "    </tr>\n",
       "    <tr>\n",
       "      <th>3</th>\n",
       "      <td>3</td>\n",
       "      <td>null</td>\n",
       "      <td>growth_rate</td>\n",
       "      <td>0.014695</td>\n",
       "    </tr>\n",
       "    <tr>\n",
       "      <th>4</th>\n",
       "      <td>4</td>\n",
       "      <td>null</td>\n",
       "      <td>growth_rate</td>\n",
       "      <td>0.010663</td>\n",
       "    </tr>\n",
       "  </tbody>\n",
       "</table>\n",
       "</div>"
      ],
      "text/plain": [
       "   init pattern    statistic     value\n",
       "0     0    null  growth_rate  0.014818\n",
       "1     1    null  growth_rate  0.017428\n",
       "2     2    null  growth_rate  0.012934\n",
       "3     3    null  growth_rate  0.014695\n",
       "4     4    null  growth_rate  0.010663"
      ]
     },
     "execution_count": 31,
     "metadata": {},
     "output_type": "execute_result"
    }
   ],
   "source": [
    "df = pd.read_csv('../Data/pattern_analysis.tsv', sep='\\t',\n",
    "                 dtype={'pattern': 'string'},\n",
    "                 keep_default_na=False)\n",
    "df = df.drop(['bray_curtis', 'skew'], axis=1)\n",
    "ids = ['init', 'pattern']\n",
    "df = pd.melt(df,\n",
    "             id_vars=ids,\n",
    "             var_name='statistic',\n",
    "             value_name='value')\n",
    "df.head()"
   ]
  },
  {
   "cell_type": "code",
   "execution_count": 34,
   "id": "349c169f-adfc-47ad-8fd3-8b8b3d6fc2dd",
   "metadata": {},
   "outputs": [
    {
     "name": "stderr",
     "output_type": "stream",
     "text": [
      "/home/sidreed/anaconda3/envs/proj_02712/lib/python3.9/site-packages/seaborn/distributions.py:316: UserWarning: Dataset has 0 variance; skipping density estimate. Pass `warn_singular=False` to disable this warning.\n",
      "  warnings.warn(msg, UserWarning)\n",
      "/home/sidreed/anaconda3/envs/proj_02712/lib/python3.9/site-packages/seaborn/distributions.py:316: UserWarning: Dataset has 0 variance; skipping density estimate. Pass `warn_singular=False` to disable this warning.\n",
      "  warnings.warn(msg, UserWarning)\n",
      "/home/sidreed/anaconda3/envs/proj_02712/lib/python3.9/site-packages/seaborn/distributions.py:316: UserWarning: Dataset has 0 variance; skipping density estimate. Pass `warn_singular=False` to disable this warning.\n",
      "  warnings.warn(msg, UserWarning)\n",
      "/home/sidreed/anaconda3/envs/proj_02712/lib/python3.9/site-packages/seaborn/distributions.py:316: UserWarning: Dataset has 0 variance; skipping density estimate. Pass `warn_singular=False` to disable this warning.\n",
      "  warnings.warn(msg, UserWarning)\n"
     ]
    },
    {
     "data": {
      "image/png": "[encoded data removed]",
      "text/plain": [
       "<Figure size 850.375x432 with 4 Axes>"
      ]
     },
     "metadata": {
      "needs_background": "light"
     },
     "output_type": "display_data"
    }
   ],
   "source": [
    "import seaborn as sns\n",
    "plot = sns.FacetGrid(df, col='statistic', hue='pattern', \n",
    "                     col_wrap=2, aspect=16/9, sharex=False, sharey=False)\n",
    "plot.map_dataframe(sns.kdeplot, x='value')\n",
    "plot.add_legend()\n",
    "plot.tight_layout()\n",
    "plot.fig.savefig('../Documents/figures/pattern_analysis.png')"
   ]
  },
  {
   "cell_type": "code",
   "execution_count": null,
   "id": "331e016a-e83d-4ca6-95b9-43517019a007",
   "metadata": {},
   "outputs": [],
   "source": []
  }
 ],
 "metadata": {
  "kernelspec": {
   "display_name": "Python 3 (ipykernel)",
   "language": "python",
   "name": "python3"
  },
  "language_info": {
   "codemirror_mode": {
    "name": "ipython",
    "version": 3
   },
   "file_extension": ".py",
   "mimetype": "text/x-python",
   "name": "python",
   "nbconvert_exporter": "python",
   "pygments_lexer": "ipython3",
   "version": "3.9.7"
  }
 },
 "nbformat": 4,
 "nbformat_minor": 5
}
