{
 "cells": [
  {
   "cell_type": "code",
   "execution_count": 1,
   "id": "02831266-3588-4ded-9ad2-dcd43a9907c5",
   "metadata": {},
   "outputs": [],
   "source": [
    "import pandas as pd\n",
    "# Our scripts\n",
    "import sys  \n",
    "sys.path.insert(0, '../src')\n",
    "import analysis\n",
    "import patterns_analysis as pa\n",
    "%load_ext autoreload\n",
    "%autoreload 2"
   ]
  },
  {
   "cell_type": "markdown",
   "id": "3df1b4d8-d245-47aa-83e1-6851ae17280e",
   "metadata": {},
   "source": [
    "## How K_ac patterns affects population structure"
   ]
  },
  {
   "cell_type": "markdown",
   "id": "f075b1d8-1ce2-4e40-b604-c9601731297e",
   "metadata": {},
   "source": [
    "#### Produce dataframe of model dynamics with different matrices"
   ]
  },
  {
   "cell_type": "code",
   "execution_count": 2,
   "id": "b98fc938-a94f-4c42-afb3-fe5f1b9eaa65",
   "metadata": {},
   "outputs": [
    {
     "data": {
      "application/vnd.jupyter.widget-view+json": {
       "model_id": "738e8b96e446469c9af7891213e521dc",
       "version_major": 2,
       "version_minor": 0
      },
      "text/plain": [
       "pattern:   0%|          | 0/8 [00:00<?, ?it/s]"
      ]
     },
     "metadata": {},
     "output_type": "display_data"
    },
    {
     "data": {
      "application/vnd.jupyter.widget-view+json": {
       "model_id": "",
       "version_major": 2,
       "version_minor": 0
      },
      "text/plain": [
       "init:   0%|          | 0/500 [00:00<?, ?it/s]"
      ]
     },
     "metadata": {},
     "output_type": "display_data"
    },
    {
     "data": {
      "application/vnd.jupyter.widget-view+json": {
       "model_id": "",
       "version_major": 2,
       "version_minor": 0
      },
      "text/plain": [
       "init:   0%|          | 0/500 [00:00<?, ?it/s]"
      ]
     },
     "metadata": {},
     "output_type": "display_data"
    },
    {
     "data": {
      "application/vnd.jupyter.widget-view+json": {
       "model_id": "",
       "version_major": 2,
       "version_minor": 0
      },
      "text/plain": [
       "init:   0%|          | 0/500 [00:00<?, ?it/s]"
      ]
     },
     "metadata": {},
     "output_type": "display_data"
    },
    {
     "data": {
      "application/vnd.jupyter.widget-view+json": {
       "model_id": "",
       "version_major": 2,
       "version_minor": 0
      },
      "text/plain": [
       "init:   0%|          | 0/500 [00:00<?, ?it/s]"
      ]
     },
     "metadata": {},
     "output_type": "display_data"
    },
    {
     "data": {
      "application/vnd.jupyter.widget-view+json": {
       "model_id": "",
       "version_major": 2,
       "version_minor": 0
      },
      "text/plain": [
       "init:   0%|          | 0/500 [00:00<?, ?it/s]"
      ]
     },
     "metadata": {},
     "output_type": "display_data"
    },
    {
     "data": {
      "application/vnd.jupyter.widget-view+json": {
       "model_id": "",
       "version_major": 2,
       "version_minor": 0
      },
      "text/plain": [
       "init:   0%|          | 0/500 [00:00<?, ?it/s]"
      ]
     },
     "metadata": {},
     "output_type": "display_data"
    },
    {
     "data": {
      "application/vnd.jupyter.widget-view+json": {
       "model_id": "",
       "version_major": 2,
       "version_minor": 0
      },
      "text/plain": [
       "init:   0%|          | 0/500 [00:00<?, ?it/s]"
      ]
     },
     "metadata": {},
     "output_type": "display_data"
    },
    {
     "data": {
      "application/vnd.jupyter.widget-view+json": {
       "model_id": "",
       "version_major": 2,
       "version_minor": 0
      },
      "text/plain": [
       "init:   0%|          | 0/500 [00:00<?, ?it/s]"
      ]
     },
     "metadata": {},
     "output_type": "display_data"
    },
    {
     "name": "stdout",
     "output_type": "stream",
     "text": [
      "(4000, 8)\n"
     ]
    },
    {
     "data": {
      "text/html": [
       "<div>\n",
       "<style scoped>\n",
       "    .dataframe tbody tr th:only-of-type {\n",
       "        vertical-align: middle;\n",
       "    }\n",
       "\n",
       "    .dataframe tbody tr th {\n",
       "        vertical-align: top;\n",
       "    }\n",
       "\n",
       "    .dataframe thead th {\n",
       "        text-align: right;\n",
       "    }\n",
       "</style>\n",
       "<table border=\"1\" class=\"dataframe\">\n",
       "  <thead>\n",
       "    <tr style=\"text-align: right;\">\n",
       "      <th></th>\n",
       "      <th>total</th>\n",
       "      <th>growth_rate</th>\n",
       "      <th>has_grown</th>\n",
       "      <th>euclidian</th>\n",
       "      <th>shannon_index</th>\n",
       "      <th>bray_curtis</th>\n",
       "      <th>init</th>\n",
       "      <th>pattern</th>\n",
       "    </tr>\n",
       "  </thead>\n",
       "  <tbody>\n",
       "    <tr>\n",
       "      <th>0</th>\n",
       "      <td>0.04</td>\n",
       "      <td>0.005588</td>\n",
       "      <td>1.0</td>\n",
       "      <td>0.011798</td>\n",
       "      <td>2.220446e-16</td>\n",
       "      <td>3.330669e-16</td>\n",
       "      <td>0</td>\n",
       "      <td>null</td>\n",
       "    </tr>\n",
       "    <tr>\n",
       "      <th>1</th>\n",
       "      <td>0.04</td>\n",
       "      <td>0.004088</td>\n",
       "      <td>1.0</td>\n",
       "      <td>0.010486</td>\n",
       "      <td>-2.220446e-16</td>\n",
       "      <td>1.110223e-16</td>\n",
       "      <td>1</td>\n",
       "      <td>null</td>\n",
       "    </tr>\n",
       "    <tr>\n",
       "      <th>2</th>\n",
       "      <td>0.04</td>\n",
       "      <td>0.001619</td>\n",
       "      <td>1.0</td>\n",
       "      <td>0.005476</td>\n",
       "      <td>-4.440892e-16</td>\n",
       "      <td>2.220446e-16</td>\n",
       "      <td>2</td>\n",
       "      <td>null</td>\n",
       "    </tr>\n",
       "    <tr>\n",
       "      <th>3</th>\n",
       "      <td>0.04</td>\n",
       "      <td>0.008643</td>\n",
       "      <td>1.0</td>\n",
       "      <td>0.014509</td>\n",
       "      <td>0.000000e+00</td>\n",
       "      <td>1.110223e-16</td>\n",
       "      <td>3</td>\n",
       "      <td>null</td>\n",
       "    </tr>\n",
       "    <tr>\n",
       "      <th>4</th>\n",
       "      <td>0.04</td>\n",
       "      <td>0.003622</td>\n",
       "      <td>1.0</td>\n",
       "      <td>0.009486</td>\n",
       "      <td>-2.220446e-16</td>\n",
       "      <td>2.220446e-16</td>\n",
       "      <td>4</td>\n",
       "      <td>null</td>\n",
       "    </tr>\n",
       "  </tbody>\n",
       "</table>\n",
       "</div>"
      ],
      "text/plain": [
       "   total  growth_rate  has_grown  euclidian  shannon_index   bray_curtis  \\\n",
       "0   0.04     0.005588        1.0   0.011798   2.220446e-16  3.330669e-16   \n",
       "1   0.04     0.004088        1.0   0.010486  -2.220446e-16  1.110223e-16   \n",
       "2   0.04     0.001619        1.0   0.005476  -4.440892e-16  2.220446e-16   \n",
       "3   0.04     0.008643        1.0   0.014509   0.000000e+00  1.110223e-16   \n",
       "4   0.04     0.003622        1.0   0.009486  -2.220446e-16  2.220446e-16   \n",
       "\n",
       "   init pattern  \n",
       "0     0    null  \n",
       "1     1    null  \n",
       "2     2    null  \n",
       "3     3    null  \n",
       "4     4    null  "
      ]
     },
     "execution_count": 2,
     "metadata": {},
     "output_type": "execute_result"
    }
   ],
   "source": [
    "size = 4\n",
    "num = 500\n",
    "lower, upper = 0.001, 0.01\n",
    "patterns = ['null', 'ident', 'naive', 'immune', \n",
    "            'barbell', 'cycle', 'complete', 'star']\n",
    "end_time = 200\n",
    "inits = analysis.make_random_abundances(size, num, lower, upper)\n",
    "results = pa.analyze(inits,\n",
    "                     patterns,\n",
    "                     end_time)\n",
    "print(results.shape)\n",
    "results.to_csv('../Data/pattern_analysis.tsv', sep='\\t', index=False)\n",
    "results.head()"
   ]
  },
  {
   "cell_type": "markdown",
   "id": "1f51e947-cc30-46f0-8733-73c6c0faae6c",
   "metadata": {},
   "source": [
    "### Plot ECDF of each Statistic and Matrix"
   ]
  },
  {
   "cell_type": "code",
   "execution_count": 4,
   "id": "e8408cc6-4833-4b8b-9634-983853f077dd",
   "metadata": {},
   "outputs": [
    {
     "data": {
      "image/png": "[encoded data removed]",
      "text/plain": [
       "<Figure size 1234.38x432 with 6 Axes>"
      ]
     },
     "metadata": {
      "needs_background": "light"
     },
     "output_type": "display_data"
    }
   ],
   "source": [
    "df = pd.read_csv('../Data/pattern_analysis.tsv', sep='\\t',\n",
    "                 dtype={'pattern': 'string'},\n",
    "                 keep_default_na=False)\n",
    "pa.plot_ecdf(df, '../Documents/figures/pattern_analysis.png')"
   ]
  }
 ],
 "metadata": {
  "kernelspec": {
   "display_name": "Python 3",
   "language": "python",
   "name": "python3"
  },
  "language_info": {
   "codemirror_mode": {
    "name": "ipython",
    "version": 3
   },
   "file_extension": ".py",
   "mimetype": "text/x-python",
   "name": "python",
   "nbconvert_exporter": "python",
   "pygments_lexer": "ipython3",
   "version": "3.7.10"
  }
 },
 "nbformat": 4,
 "nbformat_minor": 5
}
