{
 "cells": [
  {
   "cell_type": "code",
   "execution_count": 1,
   "id": "02831266-3588-4ded-9ad2-dcd43a9907c5",
   "metadata": {},
   "outputs": [],
   "source": [
    "import pandas as pd\n",
    "# Our scripts\n",
    "import sys  \n",
    "sys.path.insert(0, '../src')\n",
    "import patterns_analysis as pa\n",
    "%load_ext autoreload\n",
    "%autoreload 2"
   ]
  },
  {
   "cell_type": "markdown",
   "id": "3df1b4d8-d245-47aa-83e1-6851ae17280e",
   "metadata": {},
   "source": [
    "## How K_ac patterns affects population structure"
   ]
  },
  {
   "cell_type": "markdown",
   "id": "f075b1d8-1ce2-4e40-b604-c9601731297e",
   "metadata": {},
   "source": [
    "### Produce dataframe of model dynamics with different patterned matrices"
   ]
  },
  {
   "cell_type": "code",
   "execution_count": 2,
   "id": "b98fc938-a94f-4c42-afb3-fe5f1b9eaa65",
   "metadata": {},
   "outputs": [
    {
     "data": {
      "application/vnd.jupyter.widget-view+json": {
       "model_id": "0aceadb4ea34410399b4afbe54b9efd8",
       "version_major": 2,
       "version_minor": 0
      },
      "text/plain": [
       "pattern:   0%|          | 0/8 [00:00<?, ?it/s]"
      ]
     },
     "metadata": {},
     "output_type": "display_data"
    },
    {
     "data": {
      "application/vnd.jupyter.widget-view+json": {
       "model_id": "",
       "version_major": 2,
       "version_minor": 0
      },
      "text/plain": [
       "init:   0%|          | 0/500 [00:00<?, ?it/s]"
      ]
     },
     "metadata": {},
     "output_type": "display_data"
    },
    {
     "data": {
      "application/vnd.jupyter.widget-view+json": {
       "model_id": "",
       "version_major": 2,
       "version_minor": 0
      },
      "text/plain": [
       "init:   0%|          | 0/500 [00:00<?, ?it/s]"
      ]
     },
     "metadata": {},
     "output_type": "display_data"
    },
    {
     "data": {
      "application/vnd.jupyter.widget-view+json": {
       "model_id": "",
       "version_major": 2,
       "version_minor": 0
      },
      "text/plain": [
       "init:   0%|          | 0/500 [00:00<?, ?it/s]"
      ]
     },
     "metadata": {},
     "output_type": "display_data"
    },
    {
     "data": {
      "application/vnd.jupyter.widget-view+json": {
       "model_id": "",
       "version_major": 2,
       "version_minor": 0
      },
      "text/plain": [
       "init:   0%|          | 0/500 [00:00<?, ?it/s]"
      ]
     },
     "metadata": {},
     "output_type": "display_data"
    },
    {
     "data": {
      "application/vnd.jupyter.widget-view+json": {
       "model_id": "",
       "version_major": 2,
       "version_minor": 0
      },
      "text/plain": [
       "init:   0%|          | 0/500 [00:00<?, ?it/s]"
      ]
     },
     "metadata": {},
     "output_type": "display_data"
    },
    {
     "data": {
      "application/vnd.jupyter.widget-view+json": {
       "model_id": "",
       "version_major": 2,
       "version_minor": 0
      },
      "text/plain": [
       "init:   0%|          | 0/500 [00:00<?, ?it/s]"
      ]
     },
     "metadata": {},
     "output_type": "display_data"
    },
    {
     "data": {
      "application/vnd.jupyter.widget-view+json": {
       "model_id": "",
       "version_major": 2,
       "version_minor": 0
      },
      "text/plain": [
       "init:   0%|          | 0/500 [00:00<?, ?it/s]"
      ]
     },
     "metadata": {},
     "output_type": "display_data"
    },
    {
     "data": {
      "application/vnd.jupyter.widget-view+json": {
       "model_id": "",
       "version_major": 2,
       "version_minor": 0
      },
      "text/plain": [
       "init:   0%|          | 0/500 [00:00<?, ?it/s]"
      ]
     },
     "metadata": {},
     "output_type": "display_data"
    },
    {
     "name": "stdout",
     "output_type": "stream",
     "text": [
      "(4000, 8)\n"
     ]
    },
    {
     "data": {
      "text/html": [
       "<div>\n",
       "<style scoped>\n",
       "    .dataframe tbody tr th:only-of-type {\n",
       "        vertical-align: middle;\n",
       "    }\n",
       "\n",
       "    .dataframe tbody tr th {\n",
       "        vertical-align: top;\n",
       "    }\n",
       "\n",
       "    .dataframe thead th {\n",
       "        text-align: right;\n",
       "    }\n",
       "</style>\n",
       "<table border=\"1\" class=\"dataframe\">\n",
       "  <thead>\n",
       "    <tr style=\"text-align: right;\">\n",
       "      <th></th>\n",
       "      <th>total</th>\n",
       "      <th>growth_rate</th>\n",
       "      <th>has_grown</th>\n",
       "      <th>euclidian</th>\n",
       "      <th>shannon_index</th>\n",
       "      <th>bray_curtis</th>\n",
       "      <th>init</th>\n",
       "      <th>pattern</th>\n",
       "    </tr>\n",
       "  </thead>\n",
       "  <tbody>\n",
       "    <tr>\n",
       "      <th>0</th>\n",
       "      <td>0.040000</td>\n",
       "      <td>0.005337</td>\n",
       "      <td>1.0</td>\n",
       "      <td>0.011781</td>\n",
       "      <td>0.000000e+00</td>\n",
       "      <td>2.220446e-16</td>\n",
       "      <td>0</td>\n",
       "      <td>null</td>\n",
       "    </tr>\n",
       "    <tr>\n",
       "      <th>1</th>\n",
       "      <td>0.040000</td>\n",
       "      <td>0.002049</td>\n",
       "      <td>1.0</td>\n",
       "      <td>0.006351</td>\n",
       "      <td>0.000000e+00</td>\n",
       "      <td>2.220446e-16</td>\n",
       "      <td>1</td>\n",
       "      <td>null</td>\n",
       "    </tr>\n",
       "    <tr>\n",
       "      <th>2</th>\n",
       "      <td>0.040001</td>\n",
       "      <td>0.001668</td>\n",
       "      <td>1.0</td>\n",
       "      <td>0.005457</td>\n",
       "      <td>-2.220446e-16</td>\n",
       "      <td>4.440892e-16</td>\n",
       "      <td>2</td>\n",
       "      <td>null</td>\n",
       "    </tr>\n",
       "    <tr>\n",
       "      <th>3</th>\n",
       "      <td>0.039999</td>\n",
       "      <td>0.002858</td>\n",
       "      <td>1.0</td>\n",
       "      <td>0.008576</td>\n",
       "      <td>0.000000e+00</td>\n",
       "      <td>2.220446e-16</td>\n",
       "      <td>3</td>\n",
       "      <td>null</td>\n",
       "    </tr>\n",
       "    <tr>\n",
       "      <th>4</th>\n",
       "      <td>0.040000</td>\n",
       "      <td>0.003403</td>\n",
       "      <td>1.0</td>\n",
       "      <td>0.009519</td>\n",
       "      <td>4.440892e-16</td>\n",
       "      <td>0.000000e+00</td>\n",
       "      <td>4</td>\n",
       "      <td>null</td>\n",
       "    </tr>\n",
       "  </tbody>\n",
       "</table>\n",
       "</div>"
      ],
      "text/plain": [
       "      total  growth_rate  has_grown  euclidian  shannon_index   bray_curtis  \\\n",
       "0  0.040000     0.005337        1.0   0.011781   0.000000e+00  2.220446e-16   \n",
       "1  0.040000     0.002049        1.0   0.006351   0.000000e+00  2.220446e-16   \n",
       "2  0.040001     0.001668        1.0   0.005457  -2.220446e-16  4.440892e-16   \n",
       "3  0.039999     0.002858        1.0   0.008576   0.000000e+00  2.220446e-16   \n",
       "4  0.040000     0.003403        1.0   0.009519   4.440892e-16  0.000000e+00   \n",
       "\n",
       "   init pattern  \n",
       "0     0    null  \n",
       "1     1    null  \n",
       "2     2    null  \n",
       "3     3    null  \n",
       "4     4    null  "
      ]
     },
     "execution_count": 2,
     "metadata": {},
     "output_type": "execute_result"
    }
   ],
   "source": [
    "sizes = 4\n",
    "num = 500\n",
    "lower, upper = 0.001, 0.01\n",
    "patterns = ['null', 'ident', 'naive', 'immune', \n",
    "            'barbell', 'cycle', 'complete', 'star']\n",
    "end_time = 200\n",
    "\n",
    "results = pa.analyze(sizes,\n",
    "                     num,\n",
    "                     lower,\n",
    "                     upper,\n",
    "                     patterns,\n",
    "                     end_time)\n",
    "print(results.shape)\n",
    "results.to_csv('../Data/pattern_analysis.tsv', sep='\\t', index=False)\n",
    "results.head()"
   ]
  },
  {
   "cell_type": "code",
   "execution_count": 5,
   "id": "e8408cc6-4833-4b8b-9634-983853f077dd",
   "metadata": {},
   "outputs": [
    {
     "data": {
      "text/html": [
       "<div>\n",
       "<style scoped>\n",
       "    .dataframe tbody tr th:only-of-type {\n",
       "        vertical-align: middle;\n",
       "    }\n",
       "\n",
       "    .dataframe tbody tr th {\n",
       "        vertical-align: top;\n",
       "    }\n",
       "\n",
       "    .dataframe thead th {\n",
       "        text-align: right;\n",
       "    }\n",
       "</style>\n",
       "<table border=\"1\" class=\"dataframe\">\n",
       "  <thead>\n",
       "    <tr style=\"text-align: right;\">\n",
       "      <th></th>\n",
       "      <th>init</th>\n",
       "      <th>pattern</th>\n",
       "      <th>statistic</th>\n",
       "      <th>value</th>\n",
       "    </tr>\n",
       "  </thead>\n",
       "  <tbody>\n",
       "    <tr>\n",
       "      <th>0</th>\n",
       "      <td>0</td>\n",
       "      <td>null</td>\n",
       "      <td>total</td>\n",
       "      <td>0.040000</td>\n",
       "    </tr>\n",
       "    <tr>\n",
       "      <th>1</th>\n",
       "      <td>1</td>\n",
       "      <td>null</td>\n",
       "      <td>total</td>\n",
       "      <td>0.040000</td>\n",
       "    </tr>\n",
       "    <tr>\n",
       "      <th>2</th>\n",
       "      <td>2</td>\n",
       "      <td>null</td>\n",
       "      <td>total</td>\n",
       "      <td>0.040001</td>\n",
       "    </tr>\n",
       "    <tr>\n",
       "      <th>3</th>\n",
       "      <td>3</td>\n",
       "      <td>null</td>\n",
       "      <td>total</td>\n",
       "      <td>0.039999</td>\n",
       "    </tr>\n",
       "    <tr>\n",
       "      <th>4</th>\n",
       "      <td>4</td>\n",
       "      <td>null</td>\n",
       "      <td>total</td>\n",
       "      <td>0.040000</td>\n",
       "    </tr>\n",
       "  </tbody>\n",
       "</table>\n",
       "</div>"
      ],
      "text/plain": [
       "   init pattern statistic     value\n",
       "0     0    null     total  0.040000\n",
       "1     1    null     total  0.040000\n",
       "2     2    null     total  0.040001\n",
       "3     3    null     total  0.039999\n",
       "4     4    null     total  0.040000"
      ]
     },
     "execution_count": 5,
     "metadata": {},
     "output_type": "execute_result"
    }
   ],
   "source": [
    "df = pd.read_csv('../Data/pattern_analysis.tsv', sep='\\t',\n",
    "                 dtype={'pattern': 'string'},\n",
    "                 keep_default_na=False)\n",
    "#for pattern in patterns:\n",
    "#    print(df[df['pattern'] == pattern].describe())\n",
    "ids = ['init', 'pattern']\n",
    "df = pd.melt(df,\n",
    "             id_vars=ids,\n",
    "             var_name='statistic',\n",
    "             value_name='value')\n",
    "df.head()"
   ]
  },
  {
   "cell_type": "code",
   "execution_count": 7,
   "id": "349c169f-adfc-47ad-8fd3-8b8b3d6fc2dd",
   "metadata": {},
   "outputs": [
    {
     "data": {
      "image/png": "[encoded data removed]",
      "text/plain": [
       "<Figure size 1234.38x432 with 6 Axes>"
      ]
     },
     "metadata": {
      "needs_background": "light"
     },
     "output_type": "display_data"
    }
   ],
   "source": [
    "import seaborn as sns\n",
    "plot = sns.FacetGrid(df, col='statistic', hue='pattern', col_wrap=3, \n",
    "                     aspect=16/9, sharex=False, sharey=True)\n",
    "plot.map_dataframe(sns.ecdfplot, x='value')\n",
    "plot.add_legend()\n",
    "plot.tight_layout()\n",
    "plot.fig.savefig('../Documents/figures/pattern_analysis.png')"
   ]
  }
 ],
 "metadata": {
  "kernelspec": {
   "display_name": "Python 3 (ipykernel)",
   "language": "python",
   "name": "python3"
  },
  "language_info": {
   "codemirror_mode": {
    "name": "ipython",
    "version": 3
   },
   "file_extension": ".py",
   "mimetype": "text/x-python",
   "name": "python",
   "nbconvert_exporter": "python",
   "pygments_lexer": "ipython3",
   "version": "3.9.7"
  }
 },
 "nbformat": 4,
 "nbformat_minor": 5
}
