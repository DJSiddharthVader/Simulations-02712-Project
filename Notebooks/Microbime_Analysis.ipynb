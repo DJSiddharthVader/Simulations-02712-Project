{
 "cells": [
  {
   "cell_type": "code",
   "execution_count": 6,
   "id": "4e59e1a7",
   "metadata": {},
   "outputs": [
    {
     "name": "stdout",
     "output_type": "stream",
     "text": [
      "The autoreload extension is already loaded. To reload it, use:\n",
      "  %reload_ext autoreload\n"
     ]
    }
   ],
   "source": [
    "import pandas as pd\n",
    "import seaborn as sns\n",
    "# Our scripts\n",
    "import sys\n",
    "sys.path.insert(0, '../src')\n",
    "import microbiome_analysis as mba\n",
    "%load_ext autoreload\n",
    "%autoreload 2"
   ]
  },
  {
   "cell_type": "markdown",
   "id": "bc1a2f26-b7c8-4789-a666-1d70eb943968",
   "metadata": {},
   "source": [
    "## Load Microbiome Data"
   ]
  },
  {
   "cell_type": "code",
   "execution_count": 2,
   "id": "519636de",
   "metadata": {},
   "outputs": [
    {
     "name": "stdout",
     "output_type": "stream",
     "text": [
      "(174, 87)\n"
     ]
    },
    {
     "data": {
      "text/html": [
       "<div>\n",
       "<style scoped>\n",
       "    .dataframe tbody tr th:only-of-type {\n",
       "        vertical-align: middle;\n",
       "    }\n",
       "\n",
       "    .dataframe tbody tr th {\n",
       "        vertical-align: top;\n",
       "    }\n",
       "\n",
       "    .dataframe thead th {\n",
       "        text-align: right;\n",
       "    }\n",
       "</style>\n",
       "<table border=\"1\" class=\"dataframe\">\n",
       "  <thead>\n",
       "    <tr style=\"text-align: right;\">\n",
       "      <th></th>\n",
       "      <th>Project</th>\n",
       "      <th>External ID</th>\n",
       "      <th>Participant ID</th>\n",
       "      <th>site_sub_coll</th>\n",
       "      <th>data_type</th>\n",
       "      <th>week_num</th>\n",
       "      <th>visit_num</th>\n",
       "      <th>Research Project</th>\n",
       "      <th>IntervalName</th>\n",
       "      <th>IntervalSequence</th>\n",
       "      <th>...</th>\n",
       "      <th>Did the subject withdraw from the study?</th>\n",
       "      <th>Was subject terminated by investigator?</th>\n",
       "      <th>Partial Endoscopy</th>\n",
       "      <th>race</th>\n",
       "      <th>Arthralgias</th>\n",
       "      <th>Pyoderma gangrenosum.1</th>\n",
       "      <th>Erythema nodosum.1</th>\n",
       "      <th>Uveitis.1</th>\n",
       "      <th>Partial Endoscopy.1</th>\n",
       "      <th>sex</th>\n",
       "    </tr>\n",
       "  </thead>\n",
       "  <tbody>\n",
       "    <tr>\n",
       "      <th>0</th>\n",
       "      <td>C3001CSC1_BP</td>\n",
       "      <td>206615</td>\n",
       "      <td>C3001</td>\n",
       "      <td>C3001CSC1</td>\n",
       "      <td>biopsy_16S</td>\n",
       "      <td>2.0</td>\n",
       "      <td>1</td>\n",
       "      <td>ibdmdb</td>\n",
       "      <td>Screening Colonoscopy</td>\n",
       "      <td>1</td>\n",
       "      <td>...</td>\n",
       "      <td>No</td>\n",
       "      <td>No</td>\n",
       "      <td>No</td>\n",
       "      <td>White</td>\n",
       "      <td>No</td>\n",
       "      <td>No</td>\n",
       "      <td>No</td>\n",
       "      <td>No</td>\n",
       "      <td>No</td>\n",
       "      <td>Female</td>\n",
       "    </tr>\n",
       "    <tr>\n",
       "      <th>1</th>\n",
       "      <td>C3001CSC2_BP</td>\n",
       "      <td>206614</td>\n",
       "      <td>C3001</td>\n",
       "      <td>C3001CSC2</td>\n",
       "      <td>biopsy_16S</td>\n",
       "      <td>2.0</td>\n",
       "      <td>1</td>\n",
       "      <td>ibdmdb</td>\n",
       "      <td>Screening Colonoscopy</td>\n",
       "      <td>1</td>\n",
       "      <td>...</td>\n",
       "      <td>No</td>\n",
       "      <td>No</td>\n",
       "      <td>No</td>\n",
       "      <td>White</td>\n",
       "      <td>No</td>\n",
       "      <td>No</td>\n",
       "      <td>No</td>\n",
       "      <td>No</td>\n",
       "      <td>No</td>\n",
       "      <td>Female</td>\n",
       "    </tr>\n",
       "    <tr>\n",
       "      <th>2</th>\n",
       "      <td>C3002CSC1_BP</td>\n",
       "      <td>206617</td>\n",
       "      <td>C3002</td>\n",
       "      <td>C3002CSC1</td>\n",
       "      <td>biopsy_16S</td>\n",
       "      <td>0.0</td>\n",
       "      <td>1</td>\n",
       "      <td>ibdmdb</td>\n",
       "      <td>Screening Colonoscopy</td>\n",
       "      <td>1</td>\n",
       "      <td>...</td>\n",
       "      <td>No</td>\n",
       "      <td>No</td>\n",
       "      <td>No</td>\n",
       "      <td>White</td>\n",
       "      <td>No</td>\n",
       "      <td>No</td>\n",
       "      <td>No</td>\n",
       "      <td>No</td>\n",
       "      <td>No</td>\n",
       "      <td>Female</td>\n",
       "    </tr>\n",
       "    <tr>\n",
       "      <th>3</th>\n",
       "      <td>C3002CSC2_BP</td>\n",
       "      <td>206619</td>\n",
       "      <td>C3002</td>\n",
       "      <td>C3002CSC2</td>\n",
       "      <td>biopsy_16S</td>\n",
       "      <td>0.0</td>\n",
       "      <td>1</td>\n",
       "      <td>ibdmdb</td>\n",
       "      <td>Screening Colonoscopy</td>\n",
       "      <td>1</td>\n",
       "      <td>...</td>\n",
       "      <td>No</td>\n",
       "      <td>No</td>\n",
       "      <td>No</td>\n",
       "      <td>White</td>\n",
       "      <td>No</td>\n",
       "      <td>No</td>\n",
       "      <td>No</td>\n",
       "      <td>No</td>\n",
       "      <td>No</td>\n",
       "      <td>Female</td>\n",
       "    </tr>\n",
       "    <tr>\n",
       "      <th>4</th>\n",
       "      <td>C3002CSC3_BP</td>\n",
       "      <td>206616</td>\n",
       "      <td>C3002</td>\n",
       "      <td>C3002CSC3</td>\n",
       "      <td>biopsy_16S</td>\n",
       "      <td>0.0</td>\n",
       "      <td>1</td>\n",
       "      <td>ibdmdb</td>\n",
       "      <td>Screening Colonoscopy</td>\n",
       "      <td>1</td>\n",
       "      <td>...</td>\n",
       "      <td>No</td>\n",
       "      <td>No</td>\n",
       "      <td>No</td>\n",
       "      <td>White</td>\n",
       "      <td>No</td>\n",
       "      <td>No</td>\n",
       "      <td>No</td>\n",
       "      <td>No</td>\n",
       "      <td>No</td>\n",
       "      <td>Female</td>\n",
       "    </tr>\n",
       "  </tbody>\n",
       "</table>\n",
       "<p>5 rows × 87 columns</p>\n",
       "</div>"
      ],
      "text/plain": [
       "        Project  External ID Participant ID site_sub_coll   data_type  \\\n",
       "0  C3001CSC1_BP       206615          C3001     C3001CSC1  biopsy_16S   \n",
       "1  C3001CSC2_BP       206614          C3001     C3001CSC2  biopsy_16S   \n",
       "2  C3002CSC1_BP       206617          C3002     C3002CSC1  biopsy_16S   \n",
       "3  C3002CSC2_BP       206619          C3002     C3002CSC2  biopsy_16S   \n",
       "4  C3002CSC3_BP       206616          C3002     C3002CSC3  biopsy_16S   \n",
       "\n",
       "   week_num  visit_num Research Project           IntervalName  \\\n",
       "0       2.0          1           ibdmdb  Screening Colonoscopy   \n",
       "1       2.0          1           ibdmdb  Screening Colonoscopy   \n",
       "2       0.0          1           ibdmdb  Screening Colonoscopy   \n",
       "3       0.0          1           ibdmdb  Screening Colonoscopy   \n",
       "4       0.0          1           ibdmdb  Screening Colonoscopy   \n",
       "\n",
       "   IntervalSequence  ...  Did the subject withdraw from the study?  \\\n",
       "0                 1  ...                                        No   \n",
       "1                 1  ...                                        No   \n",
       "2                 1  ...                                        No   \n",
       "3                 1  ...                                        No   \n",
       "4                 1  ...                                        No   \n",
       "\n",
       "  Was subject terminated by investigator? Partial Endoscopy   race  \\\n",
       "0                                      No                No  White   \n",
       "1                                      No                No  White   \n",
       "2                                      No                No  White   \n",
       "3                                      No                No  White   \n",
       "4                                      No                No  White   \n",
       "\n",
       "   Arthralgias Pyoderma gangrenosum.1 Erythema nodosum.1 Uveitis.1  \\\n",
       "0           No                     No                 No        No   \n",
       "1           No                     No                 No        No   \n",
       "2           No                     No                 No        No   \n",
       "3           No                     No                 No        No   \n",
       "4           No                     No                 No        No   \n",
       "\n",
       "  Partial Endoscopy.1     sex  \n",
       "0                  No  Female  \n",
       "1                  No  Female  \n",
       "2                  No  Female  \n",
       "3                  No  Female  \n",
       "4                  No  Female  \n",
       "\n",
       "[5 rows x 87 columns]"
      ]
     },
     "execution_count": 2,
     "metadata": {},
     "output_type": "execute_result"
    }
   ],
   "source": [
    "metadata, abundances = mba.load_data()  # load microbiome data\n",
    "print(metadata.shape)\n",
    "metadata.head()"
   ]
  },
  {
   "cell_type": "code",
   "execution_count": 3,
   "id": "52916cc1",
   "metadata": {},
   "outputs": [
    {
     "name": "stdout",
     "output_type": "stream",
     "text": [
      "(56, 180)\n"
     ]
    },
    {
     "data": {
      "text/html": [
       "<div>\n",
       "<style scoped>\n",
       "    .dataframe tbody tr th:only-of-type {\n",
       "        vertical-align: middle;\n",
       "    }\n",
       "\n",
       "    .dataframe tbody tr th {\n",
       "        vertical-align: top;\n",
       "    }\n",
       "\n",
       "    .dataframe thead th {\n",
       "        text-align: right;\n",
       "    }\n",
       "</style>\n",
       "<table border=\"1\" class=\"dataframe\">\n",
       "  <thead>\n",
       "    <tr style=\"text-align: right;\">\n",
       "      <th></th>\n",
       "      <th>#OTU ID</th>\n",
       "      <th>206646</th>\n",
       "      <th>224324</th>\n",
       "      <th>206619</th>\n",
       "      <th>224326</th>\n",
       "      <th>206624</th>\n",
       "      <th>219644</th>\n",
       "      <th>214995</th>\n",
       "      <th>215058</th>\n",
       "      <th>206750</th>\n",
       "      <th>...</th>\n",
       "      <th>215003</th>\n",
       "      <th>206628</th>\n",
       "      <th>219675</th>\n",
       "      <th>206728</th>\n",
       "      <th>206754</th>\n",
       "      <th>206718</th>\n",
       "      <th>206657</th>\n",
       "      <th>206670</th>\n",
       "      <th>206655</th>\n",
       "      <th>taxonomy</th>\n",
       "    </tr>\n",
       "  </thead>\n",
       "  <tbody>\n",
       "    <tr>\n",
       "      <th>0</th>\n",
       "      <td>F1NS1036</td>\n",
       "      <td>1.0</td>\n",
       "      <td>3.0</td>\n",
       "      <td>0.0</td>\n",
       "      <td>2.0</td>\n",
       "      <td>125.0</td>\n",
       "      <td>6.0</td>\n",
       "      <td>3.0</td>\n",
       "      <td>20.0</td>\n",
       "      <td>4.0</td>\n",
       "      <td>...</td>\n",
       "      <td>0.0</td>\n",
       "      <td>0.0</td>\n",
       "      <td>29.0</td>\n",
       "      <td>23.0</td>\n",
       "      <td>0.0</td>\n",
       "      <td>0.0</td>\n",
       "      <td>8.0</td>\n",
       "      <td>0.0</td>\n",
       "      <td>16.0</td>\n",
       "      <td>Bacteria; __Proteobacteria; __Gammaproteobacte...</td>\n",
       "    </tr>\n",
       "    <tr>\n",
       "      <th>1</th>\n",
       "      <td>Unc00a9i</td>\n",
       "      <td>11.0</td>\n",
       "      <td>5.0</td>\n",
       "      <td>4.0</td>\n",
       "      <td>9.0</td>\n",
       "      <td>0.0</td>\n",
       "      <td>38.0</td>\n",
       "      <td>92.0</td>\n",
       "      <td>6.0</td>\n",
       "      <td>104.0</td>\n",
       "      <td>...</td>\n",
       "      <td>43.0</td>\n",
       "      <td>5.0</td>\n",
       "      <td>2084.0</td>\n",
       "      <td>80.0</td>\n",
       "      <td>84.0</td>\n",
       "      <td>41.0</td>\n",
       "      <td>2.0</td>\n",
       "      <td>20.0</td>\n",
       "      <td>14.0</td>\n",
       "      <td>Bacteria; __Firmicutes; __Negativicutes; __Sel...</td>\n",
       "    </tr>\n",
       "    <tr>\n",
       "      <th>2</th>\n",
       "      <td>Unc02f9r</td>\n",
       "      <td>379.0</td>\n",
       "      <td>5.0</td>\n",
       "      <td>5.0</td>\n",
       "      <td>147.0</td>\n",
       "      <td>0.0</td>\n",
       "      <td>634.0</td>\n",
       "      <td>0.0</td>\n",
       "      <td>38.0</td>\n",
       "      <td>270.0</td>\n",
       "      <td>...</td>\n",
       "      <td>14.0</td>\n",
       "      <td>0.0</td>\n",
       "      <td>0.0</td>\n",
       "      <td>0.0</td>\n",
       "      <td>433.0</td>\n",
       "      <td>1.0</td>\n",
       "      <td>55.0</td>\n",
       "      <td>22.0</td>\n",
       "      <td>58.0</td>\n",
       "      <td>Bacteria; __Firmicutes; __Clostridia; __Clostr...</td>\n",
       "    </tr>\n",
       "    <tr>\n",
       "      <th>3</th>\n",
       "      <td>Unc05bd1</td>\n",
       "      <td>1940.0</td>\n",
       "      <td>13904.0</td>\n",
       "      <td>339.0</td>\n",
       "      <td>2783.0</td>\n",
       "      <td>34.0</td>\n",
       "      <td>419.0</td>\n",
       "      <td>5263.0</td>\n",
       "      <td>1057.0</td>\n",
       "      <td>4623.0</td>\n",
       "      <td>...</td>\n",
       "      <td>653.0</td>\n",
       "      <td>0.0</td>\n",
       "      <td>880.0</td>\n",
       "      <td>3113.0</td>\n",
       "      <td>5893.0</td>\n",
       "      <td>1.0</td>\n",
       "      <td>1354.0</td>\n",
       "      <td>3.0</td>\n",
       "      <td>164.0</td>\n",
       "      <td>Bacteria; __Bacteroidetes; __Bacteroidia; __Ba...</td>\n",
       "    </tr>\n",
       "    <tr>\n",
       "      <th>4</th>\n",
       "      <td>UncB2490</td>\n",
       "      <td>7.0</td>\n",
       "      <td>10.0</td>\n",
       "      <td>0.0</td>\n",
       "      <td>6.0</td>\n",
       "      <td>0.0</td>\n",
       "      <td>16.0</td>\n",
       "      <td>173.0</td>\n",
       "      <td>4.0</td>\n",
       "      <td>78.0</td>\n",
       "      <td>...</td>\n",
       "      <td>96.0</td>\n",
       "      <td>5.0</td>\n",
       "      <td>113.0</td>\n",
       "      <td>12.0</td>\n",
       "      <td>48.0</td>\n",
       "      <td>5.0</td>\n",
       "      <td>31.0</td>\n",
       "      <td>18.0</td>\n",
       "      <td>0.0</td>\n",
       "      <td>Bacteria; __Firmicutes; __Bacilli; __Lactobaci...</td>\n",
       "    </tr>\n",
       "  </tbody>\n",
       "</table>\n",
       "<p>5 rows × 180 columns</p>\n",
       "</div>"
      ],
      "text/plain": [
       "    #OTU ID  206646   224324  206619  224326  206624  219644  214995  215058  \\\n",
       "0  F1NS1036     1.0      3.0     0.0     2.0   125.0     6.0     3.0    20.0   \n",
       "1  Unc00a9i    11.0      5.0     4.0     9.0     0.0    38.0    92.0     6.0   \n",
       "2  Unc02f9r   379.0      5.0     5.0   147.0     0.0   634.0     0.0    38.0   \n",
       "3  Unc05bd1  1940.0  13904.0   339.0  2783.0    34.0   419.0  5263.0  1057.0   \n",
       "4  UncB2490     7.0     10.0     0.0     6.0     0.0    16.0   173.0     4.0   \n",
       "\n",
       "   206750  ...  215003  206628  219675  206728  206754  206718  206657  \\\n",
       "0     4.0  ...     0.0     0.0    29.0    23.0     0.0     0.0     8.0   \n",
       "1   104.0  ...    43.0     5.0  2084.0    80.0    84.0    41.0     2.0   \n",
       "2   270.0  ...    14.0     0.0     0.0     0.0   433.0     1.0    55.0   \n",
       "3  4623.0  ...   653.0     0.0   880.0  3113.0  5893.0     1.0  1354.0   \n",
       "4    78.0  ...    96.0     5.0   113.0    12.0    48.0     5.0    31.0   \n",
       "\n",
       "   206670  206655                                           taxonomy  \n",
       "0     0.0    16.0  Bacteria; __Proteobacteria; __Gammaproteobacte...  \n",
       "1    20.0    14.0  Bacteria; __Firmicutes; __Negativicutes; __Sel...  \n",
       "2    22.0    58.0  Bacteria; __Firmicutes; __Clostridia; __Clostr...  \n",
       "3     3.0   164.0  Bacteria; __Bacteroidetes; __Bacteroidia; __Ba...  \n",
       "4    18.0     0.0  Bacteria; __Firmicutes; __Bacilli; __Lactobaci...  \n",
       "\n",
       "[5 rows x 180 columns]"
      ]
     },
     "execution_count": 3,
     "metadata": {},
     "output_type": "execute_result"
    }
   ],
   "source": [
    "print(abundances.shape)\n",
    "abundances.head()"
   ]
  },
  {
   "cell_type": "markdown",
   "id": "c364ae93-6f78-4587-b45d-9cd4d3877174",
   "metadata": {},
   "source": [
    "## Using Microbiome Data to run Simulations"
   ]
  },
  {
   "cell_type": "markdown",
   "id": "64d630c3-471c-4d00-9a83-53ecfc3f9bba",
   "metadata": {},
   "source": [
    "### Simulate using microbiome data as initial conditions"
   ]
  },
  {
   "cell_type": "code",
   "execution_count": 4,
   "id": "6de5e170-52bd-4b92-95b5-cb018c66609f",
   "metadata": {},
   "outputs": [
    {
     "data": {
      "application/vnd.jupyter.widget-view+json": {
       "model_id": "2c5820e90a0743a5ad80f3ededa2b8af",
       "version_major": 2,
       "version_minor": 0
      },
      "text/plain": [
       "conditions:   0%|          | 0/3 [00:00<?, ?it/s]"
      ]
     },
     "metadata": {},
     "output_type": "display_data"
    },
    {
     "data": {
      "application/vnd.jupyter.widget-view+json": {
       "model_id": "",
       "version_major": 2,
       "version_minor": 0
      },
      "text/plain": [
       "pattern:   0%|          | 0/8 [00:00<?, ?it/s]"
      ]
     },
     "metadata": {},
     "output_type": "display_data"
    },
    {
     "data": {
      "application/vnd.jupyter.widget-view+json": {
       "model_id": "",
       "version_major": 2,
       "version_minor": 0
      },
      "text/plain": [
       "init:   0%|          | 0/86 [00:00<?, ?it/s]"
      ]
     },
     "metadata": {},
     "output_type": "display_data"
    },
    {
     "data": {
      "application/vnd.jupyter.widget-view+json": {
       "model_id": "",
       "version_major": 2,
       "version_minor": 0
      },
      "text/plain": [
       "init:   0%|          | 0/86 [00:00<?, ?it/s]"
      ]
     },
     "metadata": {},
     "output_type": "display_data"
    },
    {
     "data": {
      "application/vnd.jupyter.widget-view+json": {
       "model_id": "",
       "version_major": 2,
       "version_minor": 0
      },
      "text/plain": [
       "init:   0%|          | 0/86 [00:00<?, ?it/s]"
      ]
     },
     "metadata": {},
     "output_type": "display_data"
    },
    {
     "data": {
      "application/vnd.jupyter.widget-view+json": {
       "model_id": "",
       "version_major": 2,
       "version_minor": 0
      },
      "text/plain": [
       "init:   0%|          | 0/86 [00:00<?, ?it/s]"
      ]
     },
     "metadata": {},
     "output_type": "display_data"
    },
    {
     "data": {
      "application/vnd.jupyter.widget-view+json": {
       "model_id": "",
       "version_major": 2,
       "version_minor": 0
      },
      "text/plain": [
       "init:   0%|          | 0/86 [00:00<?, ?it/s]"
      ]
     },
     "metadata": {},
     "output_type": "display_data"
    },
    {
     "data": {
      "application/vnd.jupyter.widget-view+json": {
       "model_id": "",
       "version_major": 2,
       "version_minor": 0
      },
      "text/plain": [
       "init:   0%|          | 0/86 [00:00<?, ?it/s]"
      ]
     },
     "metadata": {},
     "output_type": "display_data"
    },
    {
     "data": {
      "application/vnd.jupyter.widget-view+json": {
       "model_id": "",
       "version_major": 2,
       "version_minor": 0
      },
      "text/plain": [
       "init:   0%|          | 0/86 [00:00<?, ?it/s]"
      ]
     },
     "metadata": {},
     "output_type": "display_data"
    },
    {
     "data": {
      "application/vnd.jupyter.widget-view+json": {
       "model_id": "",
       "version_major": 2,
       "version_minor": 0
      },
      "text/plain": [
       "init:   0%|          | 0/86 [00:00<?, ?it/s]"
      ]
     },
     "metadata": {},
     "output_type": "display_data"
    },
    {
     "data": {
      "application/vnd.jupyter.widget-view+json": {
       "model_id": "",
       "version_major": 2,
       "version_minor": 0
      },
      "text/plain": [
       "pattern:   0%|          | 0/8 [00:00<?, ?it/s]"
      ]
     },
     "metadata": {},
     "output_type": "display_data"
    },
    {
     "data": {
      "application/vnd.jupyter.widget-view+json": {
       "model_id": "",
       "version_major": 2,
       "version_minor": 0
      },
      "text/plain": [
       "init:   0%|          | 0/44 [00:00<?, ?it/s]"
      ]
     },
     "metadata": {},
     "output_type": "display_data"
    },
    {
     "data": {
      "application/vnd.jupyter.widget-view+json": {
       "model_id": "",
       "version_major": 2,
       "version_minor": 0
      },
      "text/plain": [
       "init:   0%|          | 0/44 [00:00<?, ?it/s]"
      ]
     },
     "metadata": {},
     "output_type": "display_data"
    },
    {
     "data": {
      "application/vnd.jupyter.widget-view+json": {
       "model_id": "",
       "version_major": 2,
       "version_minor": 0
      },
      "text/plain": [
       "init:   0%|          | 0/44 [00:00<?, ?it/s]"
      ]
     },
     "metadata": {},
     "output_type": "display_data"
    },
    {
     "data": {
      "application/vnd.jupyter.widget-view+json": {
       "model_id": "",
       "version_major": 2,
       "version_minor": 0
      },
      "text/plain": [
       "init:   0%|          | 0/44 [00:00<?, ?it/s]"
      ]
     },
     "metadata": {},
     "output_type": "display_data"
    },
    {
     "data": {
      "application/vnd.jupyter.widget-view+json": {
       "model_id": "",
       "version_major": 2,
       "version_minor": 0
      },
      "text/plain": [
       "init:   0%|          | 0/44 [00:00<?, ?it/s]"
      ]
     },
     "metadata": {},
     "output_type": "display_data"
    },
    {
     "data": {
      "application/vnd.jupyter.widget-view+json": {
       "model_id": "",
       "version_major": 2,
       "version_minor": 0
      },
      "text/plain": [
       "init:   0%|          | 0/44 [00:00<?, ?it/s]"
      ]
     },
     "metadata": {},
     "output_type": "display_data"
    },
    {
     "data": {
      "application/vnd.jupyter.widget-view+json": {
       "model_id": "",
       "version_major": 2,
       "version_minor": 0
      },
      "text/plain": [
       "init:   0%|          | 0/44 [00:00<?, ?it/s]"
      ]
     },
     "metadata": {},
     "output_type": "display_data"
    },
    {
     "data": {
      "application/vnd.jupyter.widget-view+json": {
       "model_id": "",
       "version_major": 2,
       "version_minor": 0
      },
      "text/plain": [
       "init:   0%|          | 0/44 [00:00<?, ?it/s]"
      ]
     },
     "metadata": {},
     "output_type": "display_data"
    },
    {
     "data": {
      "application/vnd.jupyter.widget-view+json": {
       "model_id": "",
       "version_major": 2,
       "version_minor": 0
      },
      "text/plain": [
       "pattern:   0%|          | 0/8 [00:00<?, ?it/s]"
      ]
     },
     "metadata": {},
     "output_type": "display_data"
    },
    {
     "data": {
      "application/vnd.jupyter.widget-view+json": {
       "model_id": "",
       "version_major": 2,
       "version_minor": 0
      },
      "text/plain": [
       "init:   0%|          | 0/44 [00:00<?, ?it/s]"
      ]
     },
     "metadata": {},
     "output_type": "display_data"
    },
    {
     "data": {
      "application/vnd.jupyter.widget-view+json": {
       "model_id": "",
       "version_major": 2,
       "version_minor": 0
      },
      "text/plain": [
       "init:   0%|          | 0/44 [00:00<?, ?it/s]"
      ]
     },
     "metadata": {},
     "output_type": "display_data"
    },
    {
     "data": {
      "application/vnd.jupyter.widget-view+json": {
       "model_id": "",
       "version_major": 2,
       "version_minor": 0
      },
      "text/plain": [
       "init:   0%|          | 0/44 [00:00<?, ?it/s]"
      ]
     },
     "metadata": {},
     "output_type": "display_data"
    },
    {
     "data": {
      "application/vnd.jupyter.widget-view+json": {
       "model_id": "",
       "version_major": 2,
       "version_minor": 0
      },
      "text/plain": [
       "init:   0%|          | 0/44 [00:00<?, ?it/s]"
      ]
     },
     "metadata": {},
     "output_type": "display_data"
    },
    {
     "data": {
      "application/vnd.jupyter.widget-view+json": {
       "model_id": "",
       "version_major": 2,
       "version_minor": 0
      },
      "text/plain": [
       "init:   0%|          | 0/44 [00:00<?, ?it/s]"
      ]
     },
     "metadata": {},
     "output_type": "display_data"
    },
    {
     "data": {
      "application/vnd.jupyter.widget-view+json": {
       "model_id": "",
       "version_major": 2,
       "version_minor": 0
      },
      "text/plain": [
       "init:   0%|          | 0/44 [00:00<?, ?it/s]"
      ]
     },
     "metadata": {},
     "output_type": "display_data"
    },
    {
     "data": {
      "application/vnd.jupyter.widget-view+json": {
       "model_id": "",
       "version_major": 2,
       "version_minor": 0
      },
      "text/plain": [
       "init:   0%|          | 0/44 [00:00<?, ?it/s]"
      ]
     },
     "metadata": {},
     "output_type": "display_data"
    },
    {
     "data": {
      "application/vnd.jupyter.widget-view+json": {
       "model_id": "",
       "version_major": 2,
       "version_minor": 0
      },
      "text/plain": [
       "init:   0%|          | 0/44 [00:00<?, ?it/s]"
      ]
     },
     "metadata": {},
     "output_type": "display_data"
    },
    {
     "name": "stdout",
     "output_type": "stream",
     "text": [
      "(1392, 9)\n"
     ]
    }
   ],
   "source": [
    "from model import params\n",
    "params[\"j_P_d\"] = 0.9  # modify default parameters\n",
    "patterns = ['null','ident','naive','immune',\n",
    "            'cycle','complete','star','barbell']\n",
    "end_time = 200\n",
    "results = mba.analyze(abundances, metadata, \n",
    "                      patterns, \n",
    "                      end_time, \n",
    "                      params=params)\n",
    "print(results.shape)\n",
    "results.to_csv('../Data/microbiome_pattern_analysis.tsv', sep='\\t', index=False)"
   ]
  },
  {
   "cell_type": "code",
   "execution_count": 7,
   "id": "7f46a6d7-14fd-4162-a69c-ccd9ae81fd92",
   "metadata": {
    "tags": []
   },
   "outputs": [
    {
     "data": {
      "text/html": [
       "<div>\n",
       "<style scoped>\n",
       "    .dataframe tbody tr th:only-of-type {\n",
       "        vertical-align: middle;\n",
       "    }\n",
       "\n",
       "    .dataframe tbody tr th {\n",
       "        vertical-align: top;\n",
       "    }\n",
       "\n",
       "    .dataframe thead th {\n",
       "        text-align: right;\n",
       "    }\n",
       "</style>\n",
       "<table border=\"1\" class=\"dataframe\">\n",
       "  <thead>\n",
       "    <tr style=\"text-align: right;\">\n",
       "      <th></th>\n",
       "      <th>total</th>\n",
       "      <th>growth_rate</th>\n",
       "      <th>has_grown</th>\n",
       "      <th>euclidian</th>\n",
       "      <th>shannon_index</th>\n",
       "      <th>bray_curtis</th>\n",
       "      <th>init</th>\n",
       "      <th>pattern</th>\n",
       "      <th>condition</th>\n",
       "    </tr>\n",
       "  </thead>\n",
       "  <tbody>\n",
       "    <tr>\n",
       "      <th>0</th>\n",
       "      <td>0.090003</td>\n",
       "      <td>-0.001357</td>\n",
       "      <td>0.0</td>\n",
       "      <td>1875.213651</td>\n",
       "      <td>-4.440892e-16</td>\n",
       "      <td>4.440892e-16</td>\n",
       "      <td>0</td>\n",
       "      <td>null</td>\n",
       "      <td>CD</td>\n",
       "    </tr>\n",
       "    <tr>\n",
       "      <th>1</th>\n",
       "      <td>0.090004</td>\n",
       "      <td>-0.001433</td>\n",
       "      <td>0.0</td>\n",
       "      <td>536.136358</td>\n",
       "      <td>0.000000e+00</td>\n",
       "      <td>2.220446e-16</td>\n",
       "      <td>1</td>\n",
       "      <td>null</td>\n",
       "      <td>CD</td>\n",
       "    </tr>\n",
       "    <tr>\n",
       "      <th>2</th>\n",
       "      <td>0.090005</td>\n",
       "      <td>-0.001428</td>\n",
       "      <td>0.0</td>\n",
       "      <td>736.319763</td>\n",
       "      <td>1.776357e-15</td>\n",
       "      <td>5.551115e-16</td>\n",
       "      <td>2</td>\n",
       "      <td>null</td>\n",
       "      <td>CD</td>\n",
       "    </tr>\n",
       "    <tr>\n",
       "      <th>3</th>\n",
       "      <td>0.090002</td>\n",
       "      <td>-0.001383</td>\n",
       "      <td>0.0</td>\n",
       "      <td>1386.731162</td>\n",
       "      <td>8.881784e-16</td>\n",
       "      <td>5.551115e-16</td>\n",
       "      <td>3</td>\n",
       "      <td>null</td>\n",
       "      <td>CD</td>\n",
       "    </tr>\n",
       "    <tr>\n",
       "      <th>4</th>\n",
       "      <td>0.090004</td>\n",
       "      <td>-0.001611</td>\n",
       "      <td>0.0</td>\n",
       "      <td>48.903062</td>\n",
       "      <td>4.440892e-16</td>\n",
       "      <td>4.440892e-16</td>\n",
       "      <td>4</td>\n",
       "      <td>null</td>\n",
       "      <td>CD</td>\n",
       "    </tr>\n",
       "  </tbody>\n",
       "</table>\n",
       "</div>"
      ],
      "text/plain": [
       "      total  growth_rate  has_grown    euclidian  shannon_index   bray_curtis  \\\n",
       "0  0.090003    -0.001357        0.0  1875.213651  -4.440892e-16  4.440892e-16   \n",
       "1  0.090004    -0.001433        0.0   536.136358   0.000000e+00  2.220446e-16   \n",
       "2  0.090005    -0.001428        0.0   736.319763   1.776357e-15  5.551115e-16   \n",
       "3  0.090002    -0.001383        0.0  1386.731162   8.881784e-16  5.551115e-16   \n",
       "4  0.090004    -0.001611        0.0    48.903062   4.440892e-16  4.440892e-16   \n",
       "\n",
       "   init pattern condition  \n",
       "0     0    null        CD  \n",
       "1     1    null        CD  \n",
       "2     2    null        CD  \n",
       "3     3    null        CD  \n",
       "4     4    null        CD  "
      ]
     },
     "execution_count": 7,
     "metadata": {},
     "output_type": "execute_result"
    }
   ],
   "source": [
    "df = pd.read_csv('../Data/microbiome_pattern_analysis.tsv', sep='\\t',\n",
    "                 dtype={'pattern': 'string'},\n",
    "                 keep_default_na=False)\n",
    "df.head()"
   ]
  },
  {
   "cell_type": "code",
   "execution_count": 8,
   "id": "46086fca-1d21-4586-89b8-79a0a12ba6f4",
   "metadata": {},
   "outputs": [
    {
     "data": {
      "image/png": "[encoded data removed]",
      "text/plain": [
       "<Figure size 1234.38x1296 with 18 Axes>"
      ]
     },
     "metadata": {
      "needs_background": "light"
     },
     "output_type": "display_data"
    }
   ],
   "source": [
    "mba.plot_ecdf(df, '../Documents/figures/microbiome_pattern_analysis.png')"
   ]
  }
 ],
 "metadata": {
  "kernelspec": {
   "display_name": "Python 3",
   "language": "python",
   "name": "python3"
  },
  "language_info": {
   "codemirror_mode": {
    "name": "ipython",
    "version": 3
   },
   "file_extension": ".py",
   "mimetype": "text/x-python",
   "name": "python",
   "nbconvert_exporter": "python",
   "pygments_lexer": "ipython3",
   "version": "3.7.10"
  }
 },
 "nbformat": 4,
 "nbformat_minor": 5
}
