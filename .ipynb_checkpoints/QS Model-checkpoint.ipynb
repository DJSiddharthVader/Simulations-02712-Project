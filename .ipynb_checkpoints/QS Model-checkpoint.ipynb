{
 "cells": [
  {
   "cell_type": "markdown",
   "id": "e7799e3f",
   "metadata": {},
   "source": [
    "# Description\n",
    "\n",
    "This file contains functions to solve the systems of differential equations that define a quorum sensing system "
   ]
  },
  {
   "cell_type": "code",
   "execution_count": 83,
   "id": "fcab6f88",
   "metadata": {},
   "outputs": [],
   "source": [
    "import numpy as np\n",
    "import matplotlib.pyplot as plt\n",
    "from scipy.integrate import solve_ivp"
   ]
  },
  {
   "cell_type": "markdown",
   "id": "6f872566",
   "metadata": {},
   "source": [
    "# Initialization"
   ]
  },
  {
   "cell_type": "code",
   "execution_count": 130,
   "id": "6ab6dc35",
   "metadata": {},
   "outputs": [],
   "source": [
    "#Initialization function to go here\n",
    "\n",
    "params = {\"r\":.5,\"gamma\":.01,\"betaS\":.1,\"betaE\":.2,\"jPd\":.20,\"Vmax\":20,\"betaPD\":100, \n",
    "          \"m\":1,\"kRS\":.025,\"matrix\":matrix,\"numStrains\":2}\n",
    "params = tuple(params.values())\n",
    "\n",
    "#initVal = [N1,N2,...Nf , S1,S2,...Sf,E,P]\n",
    "initVals = (.0001,.0002,0,0,0,0)\n",
    "\n",
    "#Matrix generation function to go here\n",
    "matrix = np.array([[1,0],[0,1]])"
   ]
  },
  {
   "cell_type": "code",
   "execution_count": 131,
   "id": "2b2ccc93",
   "metadata": {},
   "outputs": [],
   "source": [
    "#Single strain\n",
    "def QS_ODES(t,state,r,g,bS,bE,j,v,bPD,m,kRS):\n",
    "    N,S,E,P = state\n",
    "    \n",
    "    rAct = S/(kRS + S)\n",
    "    \n",
    "    fN = ((P/(1+P))*(1 - r*(rAct)**m) - g - N) * N\n",
    "    fS = bS*(N - S)    \n",
    "    fE = (rAct**m) * N - bE*E\n",
    "    fP = j + v*E - (bPD*P/(P+1)) * N\n",
    "    \n",
    "    return [fN,fS,fE,fP]"
   ]
  },
  {
   "cell_type": "code",
   "execution_count": 132,
   "id": "d836ca04",
   "metadata": {},
   "outputs": [],
   "source": [
    "#Multi strain\n",
    "def QS_ODES(t,state,r,g,bS,bE,j,v,bPD,m,kRS,kAc,numStrains):\n",
    "    \n",
    "    strains = []\n",
    "    P, E = state[-1], state[-2]\n",
    "    N = []\n",
    "    S = []\n",
    "    \n",
    "    numReceptors = kAc.shape[1] #if not a square matrix, find num of receptors involved; else, numReceptors = numStrains\n",
    "    \n",
    "    for i in range(2):\n",
    "        startIdx = i*numStrains\n",
    "        if i == 0:\n",
    "            N = list(state[startIdx:startIdx + numStrains])\n",
    "        if i == 1:\n",
    "            S= list(state[startIdx:startIdx + numStrains])\n",
    "    \n",
    "    nTot = sum(N)\n",
    "    S = np.asarray(S)\n",
    "        \n",
    "    numerator = np.matmul(S.T, kAc)\n",
    "    denominator = np.matmul(S.T, kAc) #+np.matmul(S.T, kIn)\n",
    "    \n",
    "#     rAct = []\n",
    "#     for j in range(numReceptors):\n",
    "#         rAct_j = numerator[j]/(kRs+denominator[j])\n",
    "#         rAct.append(rAct_j)\n",
    "\n",
    "    rAct = []\n",
    "    enzymeIterator = 0\n",
    "    for j in range(numStrains):\n",
    "        rAct_j = numerator.T[j]/(kRS+denominator.T[j])\n",
    "        enzymeIterator += (rAct_j**numStrains)*N[i]\n",
    "        rAct.append(rAct_j)\n",
    "        \n",
    "        \n",
    "    enzymeIterator -= bE*E\n",
    "    \n",
    "    fN, fS = [], []\n",
    "    for i in range(numStrains):\n",
    "        fN_i=((P/(1+P))*(1 - r*(rAct[i])**m) - g - nTot) * N[i]\n",
    "        fS_i = bS*(N[i] - S[i])\n",
    "        fN.append(fN_i)\n",
    "        fS.append(fS_i)\n",
    "    \n",
    "    fE = enzymeIterator\n",
    "    fP = j + v*E - (bPD*P/(P+1)) * nTot\n",
    "    \n",
    "    result = fN + fS + list(fE) + list(fP)\n",
    "    return result"
   ]
  },
  {
   "cell_type": "code",
   "execution_count": 134,
   "id": "6f9c5eac",
   "metadata": {},
   "outputs": [
    {
     "data": {
      "image/png": "[encoded data removed]",
      "text/plain": [
       "<Figure size 432x288 with 1 Axes>"
      ]
     },
     "metadata": {
      "needs_background": "light"
     },
     "output_type": "display_data"
    }
   ],
   "source": [
    "sol = solve_ivp(QS_ODES,t_span=(0,100),y0=initVals, vectorized=True ,args=params)\n",
    "\n",
    "\n",
    "plt.figure()\n",
    "plt.plot(sol.t,sol.y[0],label=\"N1\")\n",
    "plt.plot(sol.t,sol.y[1],label=\"N2\")\n",
    "plt.plot(sol.t,sol.y[2],label = \"S1\")\n",
    "plt.plot(sol.t,sol.y[3],label = \"S2\")\n",
    "# plt.plot(sol.t,sol.y[4],label = \"E\")\n",
    "# plt.plot(sol.t,sol.y[5],label = \"P\")\n",
    "plt.legend()\n",
    "plt.show()\n",
    "\n",
    "\n"
   ]
  }
 ],
 "metadata": {
  "kernelspec": {
   "display_name": "Python 3 (ipykernel)",
   "language": "python",
   "name": "python3"
  },
  "language_info": {
   "codemirror_mode": {
    "name": "ipython",
    "version": 3
   },
   "file_extension": ".py",
   "mimetype": "text/x-python",
   "name": "python",
   "nbconvert_exporter": "python",
   "pygments_lexer": "ipython3",
   "version": "3.9.7"
  }
 },
 "nbformat": 4,
 "nbformat_minor": 5
}
