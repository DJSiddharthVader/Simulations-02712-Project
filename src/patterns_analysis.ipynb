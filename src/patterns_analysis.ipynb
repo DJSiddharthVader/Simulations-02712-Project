{
 "cells": [
  {
   "cell_type": "code",
   "execution_count": 1,
   "metadata": {},
   "outputs": [],
   "source": [
    "import numpy as np\n",
    "import pandas as pd\n",
    "import matrix\n",
    "import model\n",
    "import analysis as an"
   ]
  },
  {
   "cell_type": "code",
   "execution_count": 15,
   "metadata": {},
   "outputs": [],
   "source": [
    "def analysis(init, patterns, end_time):\n",
    "    \"\"\"sparsity_analysis.\n",
    "    Generate simulation data to analyze how K_ac\n",
    "    sparsity affects model dynamics.\n",
    "\n",
    "    :param init:  inital abudance vector\n",
    "    :param pattern: matrix patterns to test\n",
    "    :param end_time: time steps to simulate\n",
    "    \"\"\"\n",
    "    rows, n = [], len(init)\n",
    "    for pattern in patterns:\n",
    "        curr_mat = matrix.pattern_matrix(pattern, n)\n",
    "        # simulate model with given params\n",
    "        t, N, S, E, P = model.simulate(curr_mat, init, end_time)\n",
    "        # Calculate statistics\n",
    "        row = {\"pattern\": pattern}\n",
    "        # N, S are variables by time points matrices\n",
    "        row[\"growth_rate\"] = an.growth_rate(N.T)\n",
    "        N = np.apply_along_axis(an.normalize, 1, N.T).T\n",
    "        # store for easy conversion to a dataframe\n",
    "        rows.append(row)\n",
    "    return pd.DataFrame(rows)"
   ]
  },
  {
   "cell_type": "code",
   "execution_count": 16,
   "metadata": {},
   "outputs": [],
   "source": [
    "patterns = ['null', 'ident', 'barbell', 'cycle', 'complete', 'star']"
   ]
  },
  {
   "cell_type": "code",
   "execution_count": 18,
   "metadata": {},
   "outputs": [
    {
     "data": {
      "text/html": [
       "<div>\n",
       "<style scoped>\n",
       "    .dataframe tbody tr th:only-of-type {\n",
       "        vertical-align: middle;\n",
       "    }\n",
       "\n",
       "    .dataframe tbody tr th {\n",
       "        vertical-align: top;\n",
       "    }\n",
       "\n",
       "    .dataframe thead th {\n",
       "        text-align: right;\n",
       "    }\n",
       "</style>\n",
       "<table border=\"1\" class=\"dataframe\">\n",
       "  <thead>\n",
       "    <tr style=\"text-align: right;\">\n",
       "      <th></th>\n",
       "      <th>pattern</th>\n",
       "      <th>growth_rate</th>\n",
       "    </tr>\n",
       "  </thead>\n",
       "  <tbody>\n",
       "    <tr>\n",
       "      <th>0</th>\n",
       "      <td>null</td>\n",
       "      <td>-0.007797</td>\n",
       "    </tr>\n",
       "    <tr>\n",
       "      <th>1</th>\n",
       "      <td>ident</td>\n",
       "      <td>0.043022</td>\n",
       "    </tr>\n",
       "    <tr>\n",
       "      <th>2</th>\n",
       "      <td>barbell</td>\n",
       "      <td>0.007589</td>\n",
       "    </tr>\n",
       "    <tr>\n",
       "      <th>3</th>\n",
       "      <td>cycle</td>\n",
       "      <td>0.041799</td>\n",
       "    </tr>\n",
       "    <tr>\n",
       "      <th>4</th>\n",
       "      <td>complete</td>\n",
       "      <td>0.061861</td>\n",
       "    </tr>\n",
       "    <tr>\n",
       "      <th>5</th>\n",
       "      <td>star</td>\n",
       "      <td>0.005508</td>\n",
       "    </tr>\n",
       "  </tbody>\n",
       "</table>\n",
       "</div>"
      ],
      "text/plain": [
       "    pattern  growth_rate\n",
       "0      null    -0.007797\n",
       "1     ident     0.043022\n",
       "2   barbell     0.007589\n",
       "3     cycle     0.041799\n",
       "4  complete     0.061861\n",
       "5      star     0.005508"
      ]
     },
     "execution_count": 18,
     "metadata": {},
     "output_type": "execute_result"
    }
   ],
   "source": [
    "analysis([0.01, 0.002, 0.05, 0.03], patterns, 50)"
   ]
  },
  {
   "cell_type": "code",
   "execution_count": null,
   "metadata": {},
   "outputs": [],
   "source": []
  }
 ],
 "metadata": {
  "kernelspec": {
   "display_name": "Python 3",
   "language": "python",
   "name": "python3"
  },
  "language_info": {
   "codemirror_mode": {
    "name": "ipython",
    "version": 3
   },
   "file_extension": ".py",
   "mimetype": "text/x-python",
   "name": "python",
   "nbconvert_exporter": "python",
   "pygments_lexer": "ipython3",
   "version": "3.8.5"
  }
 },
 "nbformat": 4,
 "nbformat_minor": 4
}
