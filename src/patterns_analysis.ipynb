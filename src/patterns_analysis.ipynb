{
 "cells": [
  {
   "cell_type": "code",
   "execution_count": 1,
   "metadata": {},
   "outputs": [],
   "source": [
    "import numpy as np\n",
    "import pandas as pd\n",
    "import matplotlib.pyplot as plt\n",
    "import seaborn as sns\n",
    "\n",
    "import matrix\n",
    "import model\n",
    "import analysis as an\n",
    "import plot"
   ]
  },
  {
   "cell_type": "code",
   "execution_count": 2,
   "metadata": {},
   "outputs": [],
   "source": [
    "def analysis(init, patterns, end_time):\n",
    "    \"\"\"sparsity_analysis.\n",
    "    Generate simulation data to analyze how K_ac\n",
    "    sparsity affects model dynamics.\n",
    "\n",
    "    :param init:  inital abudance vector\n",
    "    :param pattern: matrix patterns to test\n",
    "    :param end_time: time steps to simulate\n",
    "    \"\"\"\n",
    "    rows, n = [], len(init)\n",
    "    \n",
    "    fixation_times = []\n",
    "    for pattern in patterns:\n",
    "        curr_mat = matrix.pattern_matrix(pattern, n)\n",
    "        \n",
    "        # simulate model with given params\n",
    "        t, N, S, E, P = model.simulate(curr_mat, init, end_time)\n",
    "        # N, S are variables by time points matrices\n",
    "        \n",
    "        \n",
    "        # Calculate statistics\n",
    "        row = {\"pattern\": pattern}\n",
    "        \n",
    "        row[\"initial_conditions\"] = init\n",
    "        \n",
    "        # Compute time to fixation\n",
    "        row['fixation_time'] = len(N[0])\n",
    "        \n",
    "        # Compute growth rate\n",
    "        row[\"growth_rate\"] = an.growth_rate(N.T)\n",
    "        \n",
    "        N = np.apply_along_axis(an.normalize, 1, N.T).T\n",
    "        \n",
    "        # Compute skewness \n",
    "        row[\"skewness\"] = np.average(an.skewness(N.T))\n",
    "        \n",
    "        # Compute richness\n",
    "        richnessVals = [an.richness(i) for i in N.T]\n",
    "        row[\"richness\"] = np.average(richnessVals)\n",
    "        \n",
    "        # Compute shannon index\n",
    "        row[\"shannon_index\"] = np.average(an.shannon_index(N.T))\n",
    "        \n",
    "        # Add Bray Curtis distance metric array for each K_ac simulation\n",
    "        brayCurtisMtx = np.identity(n)\n",
    "        for i in range(n):\n",
    "            for j in range(i + 1, n):\n",
    "                brayCurtisMtx[i, j] = an.bray_curtis(N[i], N[j])\n",
    "        row[\"bray curtis\"] = brayCurtisMtx\n",
    "        \n",
    "        # store for easy conversion to a dataframe\n",
    "        rows.append(row)\n",
    "        \n",
    "    return pd.DataFrame(rows)"
   ]
  },
  {
   "cell_type": "code",
   "execution_count": 3,
   "metadata": {},
   "outputs": [],
   "source": [
    "patterns = ['null', 'ident', 'naive', 'immune', 'barbell', 'cycle', 'complete', 'star']"
   ]
  },
  {
   "cell_type": "code",
   "execution_count": 4,
   "metadata": {},
   "outputs": [],
   "source": [
    "# Create random inits\n",
    "def make_random_init(num_strains):\n",
    "    max_val = 0.5\n",
    "    min_val = 0\n",
    "    \n",
    "    init = []\n",
    "    for i in range(num_strains):\n",
    "        init.append(np.random.uniform(min_val, max_val))\n",
    "    \n",
    "    return init"
   ]
  },
  {
   "cell_type": "code",
   "execution_count": 5,
   "metadata": {},
   "outputs": [],
   "source": [
    "# Generate 100 random inits\n",
    "inits = []\n",
    "for i in range(100):\n",
    "    inits.append(make_random_init(4))"
   ]
  },
  {
   "cell_type": "code",
   "execution_count": null,
   "metadata": {},
   "outputs": [],
   "source": [
    "# Create dataframe containing statistics for all inits\n",
    "big_df = pd.DataFrame()\n",
    "\n",
    "for init in inits:\n",
    "    res = analysis(init, patterns, 50)\n",
    "    big_df = big_df.append(res)\n",
    "\n",
    "big_df.reset_index(drop=True)"
   ]
  },
  {
   "cell_type": "code",
   "execution_count": null,
   "metadata": {},
   "outputs": [],
   "source": [
    "# Create pattern dataframes\n",
    "null_df = big_df.loc[big_df['pattern'] == 'null']\n",
    "ident_df = big_df.loc[big_df['pattern'] == 'ident']\n",
    "naive_df = big_df.loc[big_df['pattern'] == 'naive']\n",
    "immune_df = big_df.loc[big_df['pattern'] == 'immune']\n",
    "barbell_df = big_df.loc[big_df['pattern'] == 'barbell']\n",
    "cycle_df = big_df.loc[big_df['pattern'] == 'cycle']\n",
    "complete_df = big_df.loc[big_df['pattern'] == 'complete']\n",
    "star_df = big_df.loc[big_df['pattern'] == 'star']\n",
    "\n",
    "# Create list to hold all pattern dataframes\n",
    "all_pattern_dfs = [null_df, ident_df, naive_df, immune_df, barbell_df, cycle_df, complete_df, star_df]"
   ]
  },
  {
   "cell_type": "code",
   "execution_count": null,
   "metadata": {},
   "outputs": [],
   "source": [
    "# growth rate plots\n",
    "# x axis = metric range, y axis = frequency\n",
    "\n",
    "plt.figure(figsize=(16, 9))\n",
    "\n",
    "i=1\n",
    "for pattern_df in all_pattern_dfs:\n",
    "    vals = pattern_df['growth_rate'].values\n",
    "    plt.subplot(2, 4, i)\n",
    "    plt.title(pattern_df['pattern'].values[0])\n",
    "    sns.kdeplot(vals)\n",
    "    i += 1\n",
    "    \n",
    "plt.suptitle('Growth Rate')\n",
    "plt.show()"
   ]
  },
  {
   "cell_type": "code",
   "execution_count": null,
   "metadata": {},
   "outputs": [],
   "source": [
    "# skewness plots\n",
    "# x axis = metric range, y axis = frequency\n",
    "\n",
    "plt.figure(figsize=(16, 9))\n",
    "\n",
    "i=1\n",
    "for pattern_df in all_pattern_dfs:\n",
    "    vals = pattern_df['skewness'].values\n",
    "    plt.subplot(2, 4, i)\n",
    "    plt.title(pattern_df['pattern'].values[0])\n",
    "    sns.kdeplot(vals)\n",
    "    i += 1\n",
    "    \n",
    "plt.suptitle('Skewness')\n",
    "plt.show()"
   ]
  },
  {
   "cell_type": "code",
   "execution_count": null,
   "metadata": {},
   "outputs": [],
   "source": [
    "# shannon index plots\n",
    "# x axis = metric range, y axis = frequency\n",
    "\n",
    "plt.figure(figsize=(16, 9))\n",
    "\n",
    "i=1\n",
    "for pattern_df in all_pattern_dfs:\n",
    "    vals = pattern_df['shannon_index'].values\n",
    "    plt.subplot(2, 4, i)\n",
    "    plt.title(pattern_df['pattern'].values[0])\n",
    "    sns.kdeplot(vals)\n",
    "    i += 1\n",
    "    \n",
    "plt.suptitle('Shannon Index')\n",
    "plt.show()"
   ]
  },
  {
   "cell_type": "code",
   "execution_count": null,
   "metadata": {},
   "outputs": [],
   "source": [
    "# fixation time plots\n",
    "# x axis = metric range, y axis = frequency\n",
    "\n",
    "plt.figure(figsize=(16, 9))\n",
    "\n",
    "i=1\n",
    "for pattern_df in all_pattern_dfs:\n",
    "    vals = pattern_df['fixation_time'].values\n",
    "    plt.subplot(2, 4, i)\n",
    "    plt.title(pattern_df['pattern'].values[0])\n",
    "    sns.kdeplot(vals)\n",
    "    i += 1\n",
    "    \n",
    "plt.suptitle('Times to Fixation')\n",
    "plt.show()"
   ]
  },
  {
   "cell_type": "code",
   "execution_count": null,
   "metadata": {
    "scrolled": false
   },
   "outputs": [],
   "source": [
    "# Melt big_df\n",
    "melted_df = pd.melt(big_df, id_vars =['pattern'], value_vars =['growth_rate', 'skewness', 'shannon_index', 'fixation_time'])"
   ]
  },
  {
   "cell_type": "code",
   "execution_count": null,
   "metadata": {},
   "outputs": [],
   "source": [
    "# plot all pattern matrices on one plot showing growth rate\n",
    "\n",
    "plt.figure(figsize=(10, 6))\n",
    "i=1\n",
    "for pattern_df in all_pattern_dfs:\n",
    "    vals = pattern_df['growth_rate'].values\n",
    "    sns.kdeplot(vals, label=pattern_df['pattern'].values[0])\n",
    "    plt.title('Growth Rate')\n",
    "    i += 1\n",
    "    \n",
    "plt.show()\n"
   ]
  },
  {
   "cell_type": "code",
   "execution_count": null,
   "metadata": {},
   "outputs": [],
   "source": [
    "# plot all pattern matrices on one plot showing skewness\n",
    "\n",
    "plt.figure(figsize=(10, 6))\n",
    "i=1\n",
    "for pattern_df in all_pattern_dfs:\n",
    "    vals = pattern_df['skewness'].values\n",
    "    sns.kdeplot(vals, label=pattern_df['pattern'].values[0])\n",
    "    plt.title('Skewness')\n",
    "    i += 1\n",
    "    \n",
    "plt.show()"
   ]
  },
  {
   "cell_type": "code",
   "execution_count": null,
   "metadata": {},
   "outputs": [],
   "source": [
    "# plot all pattern matrices on one plot showing shannon index\n",
    "\n",
    "plt.figure(figsize=(10, 6))\n",
    "i=1\n",
    "for pattern_df in all_pattern_dfs:\n",
    "    vals = pattern_df['shannon_index'].values\n",
    "    sns.kdeplot(vals, label=pattern_df['pattern'].values[0])\n",
    "    plt.title('Shannon Index')\n",
    "    i += 1\n",
    "    \n",
    "plt.show()"
   ]
  },
  {
   "cell_type": "code",
   "execution_count": null,
   "metadata": {},
   "outputs": [],
   "source": [
    "# plot all pattern matrices on one plot showing shannon index\n",
    "\n",
    "plt.figure(figsize=(10, 6))\n",
    "i=1\n",
    "for pattern_df in all_pattern_dfs:\n",
    "    vals = pattern_df['fixation_time'].values\n",
    "    sns.kdeplot(vals, label=pattern_df['pattern'].values[0])\n",
    "    plt.title('Fixation Time')\n",
    "    i += 1\n",
    "\n",
    "plt.legend()\n",
    "plt.show()"
   ]
  },
  {
   "cell_type": "code",
   "execution_count": null,
   "metadata": {},
   "outputs": [],
   "source": []
  }
 ],
 "metadata": {
  "kernelspec": {
   "display_name": "Python 3",
   "language": "python",
   "name": "python3"
  },
  "language_info": {
   "codemirror_mode": {
    "name": "ipython",
    "version": 3
   },
   "file_extension": ".py",
   "mimetype": "text/x-python",
   "name": "python",
   "nbconvert_exporter": "python",
   "pygments_lexer": "ipython3",
   "version": "3.8.5"
  }
 },
 "nbformat": 4,
 "nbformat_minor": 4
}
